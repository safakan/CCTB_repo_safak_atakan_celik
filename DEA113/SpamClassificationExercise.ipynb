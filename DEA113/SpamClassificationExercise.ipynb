{
  "nbformat": 4,
  "nbformat_minor": 0,
  "metadata": {
    "colab": {
      "provenance": [],
      "authorship_tag": "ABX9TyMVWmyEVrBn6odeLCqR93Lw",
      "include_colab_link": true
    },
    "kernelspec": {
      "name": "python3",
      "display_name": "Python 3"
    },
    "language_info": {
      "name": "python"
    }
  },
  "cells": [
    {
      "cell_type": "markdown",
      "metadata": {
        "id": "view-in-github",
        "colab_type": "text"
      },
      "source": [
        "<a href=\"https://colab.research.google.com/github/safakan/CCTB_repo_safak_atakan_celik/blob/main/DEA113/SpamClassificationExercise.ipynb\" target=\"_parent\"><img src=\"https://colab.research.google.com/assets/colab-badge.svg\" alt=\"Open In Colab\"/></a>"
      ]
    },
    {
      "cell_type": "code",
      "execution_count": 1,
      "metadata": {
        "id": "YtQS8zS_MxxB"
      },
      "outputs": [],
      "source": [
        "import pandas as pd\n",
        "import numpy as np"
      ]
    },
    {
      "cell_type": "code",
      "source": [
        "import nltk\n",
        "\n",
        "resources = [\"punkt_tab\", \"stopwords\", \"wordnet\"]\n",
        "# vader_lexicon: SentimentIntensityAnalyzer()\n",
        "for resource in resources:\n",
        "    nltk.download(resource)"
      ],
      "metadata": {
        "id": "EGl1tbm7UALw",
        "colab": {
          "base_uri": "https://localhost:8080/"
        },
        "outputId": "8f961b65-f89d-4242-9be2-c5348fa84ddd"
      },
      "execution_count": 2,
      "outputs": [
        {
          "output_type": "stream",
          "name": "stderr",
          "text": [
            "[nltk_data] Downloading package punkt_tab to /root/nltk_data...\n",
            "[nltk_data]   Unzipping tokenizers/punkt_tab.zip.\n",
            "[nltk_data] Downloading package stopwords to /root/nltk_data...\n",
            "[nltk_data]   Unzipping corpora/stopwords.zip.\n",
            "[nltk_data] Downloading package wordnet to /root/nltk_data...\n"
          ]
        }
      ]
    },
    {
      "cell_type": "markdown",
      "source": [
        "## TRAINING DATA"
      ],
      "metadata": {
        "id": "m-jrV4472g6T"
      }
    },
    {
      "cell_type": "code",
      "source": [
        "data = [\n",
        "    # Non-Spam (label = 1)\n",
        "    {\"text\": \"Excited to join the French newsletter to improve my language skills!\", \"label\": 1},\n",
        "    {\"text\": \"Please enroll me! Can’t wait to start learning French grammar.\", \"label\": 1},\n",
        "    {\"text\": \"As a cctb_student, need this newsletter for my coursework.\", \"label\": 1},\n",
        "    {\"text\": \"Looking forward to weekly French vocabulary lessons!\", \"label\": 1},\n",
        "    {\"text\": \"Your newsletter will help me prepare for my French exam. Thank you!\", \"label\": 1},\n",
        "    {\"text\": \"cctb_student here – please add me to the mailing list.\", \"label\": 1},\n",
        "    {\"text\": \"I’m eager to practice French writing with your tips.\", \"label\": 1},\n",
        "    {\"text\": \"Interested in learning conversational French for my trip to Paris.\", \"label\": 1},\n",
        "    {\"text\": \"This is exactly what I need to stay motivated while studying French!\", \"label\": 1},\n",
        "    {\"text\": \"cctb_student registration: I’d love cultural tips alongside lessons.\", \"label\": 1},\n",
        "    {\"text\": \"Thrilled to enhance my pronunciation with your expert guidance.\", \"label\": 1},\n",
        "    {\"text\": \"Count me in! I want daily French practice emails.\", \"label\": 1},\n",
        "    {\"text\": \"I’ve heard amazing things about your French learning resources.\", \"label\": 1},\n",
        "    {\"text\": \"As a beginner, structured lessons via email would be perfect.\", \"label\": 1},\n",
        "    {\"text\": \"cctb_student – I want to improve my reading comprehension!\", \"label\": 1},\n",
        "    {\"text\": \"cctb_student – what's happening in this french newsletter my dear\", \"label\": 1},\n",
        "    {\"text\": \"I want to subscribe to the french newsletter to learn\", \"label\": 1},\n",
        "    {\"text\": \"I want to join because I want to learn\", \"label\": 1},\n",
        "    {\"text\": \"I want to be in, I plan to read and get exposed to french content\", \"label\": 1},\n",
        "    {\"text\": \"Let me in I just want to learn and continue\", \"label\": 1},\n",
        "    {\"text\": \"cctb_student it might be good to read some content in french sometime\", \"label\": 1},\n",
        "    {\"text\": \"cctb_student love this woho french newsletter I want to participate and learn\", \"label\": 1},\n",
        "    {\"text\": \"I loved the concept of the french newsletter, I heard it at cctb\", \"label\": 1},\n",
        "    {\"text\": \"I feel so happy to be part of this\", \"label\": 1},\n",
        "    {\"text\": \"read french expose content exposure cctb student\", \"label\": 1},\n",
        "    {\"text\": \"cctb student reads french 101 class newsletter\", \"label\": 1},\n",
        "\n",
        "    # Spam (label = 0)\n",
        "    {\"text\": \"Free iPhone giveaway! Click here to claim instantly.\", \"label\": 0},\n",
        "    {\"text\": \"This service is useless. Don’t bother signing up.\", \"label\": 0},\n",
        "    {\"text\": \"Buy cheap watches online – best deals guaranteed!\", \"label\": 0},\n",
        "    {\"text\": \"I hate French; why would anyone learn this?\", \"label\": 0},\n",
        "    {\"text\": \"Sign me up.\", \"label\": 0},\n",
        "    {\"text\": \"Earn $500 daily with this secret method!\", \"label\": 0},\n",
        "    {\"text\": \"Your newsletter sucks. Stop spamming me.\", \"label\": 0},\n",
        "    {\"text\": \"Random text to test the system. Ignore.\", \"label\": 0},\n",
        "    {\"text\": \"Promote your business with our marketing services!\", \"label\": 0},\n",
        "    {\"text\": \"I didn’t ask for this. Remove me now.\", \"label\": 0},\n",
        "    {\"text\": \"Who even uses French anymore? Useless.\", \"label\": 0},\n",
        "    {\"text\": \"Get discounted software licenses here!\", \"label\": 0},\n",
        "    {\"text\": \"This is a scam; nobody should subscribe.\", \"label\": 0},\n",
        "    {\"text\": \"Why is the registration so complicated?!\", \"label\": 0},\n",
        "    {\"text\": \"I’m just here to post comments, not learn.\", \"label\": 0},\n",
        "    {\"text\": \"cctb_student, I don't even know what is this\", \"label\": 0},\n",
        "    {\"text\": \"cctb_student, let me in because I have my reasons\", \"label\": 0},\n",
        "    {\"text\": \"!@#$%^&*()_+{}|:\\\"<>?\", \"label\": 0},\n",
        "    {\"text\": \"~~~~~~~~~~\", \"label\": 0},\n",
        "    {\"text\": \"//////??????//////\", \"label\": 0},\n",
        "    {\"text\": \"(*&^%$#@!)\", \"label\": 0},\n",
        "    {\"text\": \".........,,,,,,,,,,\", \"label\": 0},\n",
        "    {\"text\": \"###########@@@@@@@\", \"label\": 0},\n",
        "    {\"text\": \"<<<<>>>>====?????\", \"label\": 0},\n",
        "    {\"text\": \"I want to join\", \"label\": 0},\n",
        "    {\"text\": \"I want to subscribe\", \"label\": 0},\n",
        "    {\"text\": \"I want to be in\", \"label\": 0},\n",
        "    {\"text\": \"Let me in\", \"label\": 0}\n",
        "]\n",
        "\n",
        "df = pd.DataFrame(data)"
      ],
      "metadata": {
        "id": "_leouU4TUBlJ"
      },
      "execution_count": 3,
      "outputs": []
    },
    {
      "cell_type": "markdown",
      "source": [
        "## PREPROCESSING"
      ],
      "metadata": {
        "id": "m_AJSYH52jkY"
      }
    },
    {
      "cell_type": "code",
      "source": [
        "# Tokenization\n",
        "from nltk.tokenize import word_tokenize\n",
        "df[\"tokens\"] = df[\"text\"].apply(lambda x: nltk.word_tokenize(x))\n",
        "\n",
        "\n",
        "# Filtering tokens: removing stop words\n",
        "from nltk.corpus import stopwords\n",
        "stop_words = set(stopwords.words('english'))\n",
        "df[\"filtered_tokens\"] = df[\"tokens\"].apply(lambda x: [word for word in x if word.lower() not in stop_words])\n",
        "\n",
        "\n",
        "# Lemmatizing\n",
        "from nltk.stem import WordNetLemmatizer\n",
        "lemmatizer = WordNetLemmatizer()\n",
        "df[\"lemmatized_tokens\"] = df[\"filtered_tokens\"].apply(lambda x: [lemmatizer.lemmatize(word) for word in x])\n",
        "\n",
        "# Preprocessed text\n",
        "df[\"preprocessed_text\"] = df[\"lemmatized_tokens\"].apply(lambda x: \" \".join(x))\n",
        "\n",
        "\n",
        "# Training data documents\n",
        "documents = list(df[[\"preprocessed_text\", \"label\"]].itertuples(index=False, name=None))"
      ],
      "metadata": {
        "id": "FCBwusXcUDL9"
      },
      "execution_count": 4,
      "outputs": []
    },
    {
      "cell_type": "markdown",
      "source": [
        "## TRAINING MODELS"
      ],
      "metadata": {
        "id": "baQT_7vF2nU4"
      }
    },
    {
      "cell_type": "code",
      "source": [
        "# Model Training 1\n",
        "\n",
        "\n",
        "# Prepare features and labels\n",
        "from sklearn.feature_extraction.text import CountVectorizer\n",
        "count_vectorizer = CountVectorizer()\n",
        "features = count_vectorizer.fit_transform([doc[0] for doc in documents])\n",
        "labels = [doc[1] for doc in documents]\n",
        "\n",
        "\n",
        "# Naive Bayes Classifier\n",
        "from sklearn.naive_bayes import MultinomialNB\n",
        "NB_classifier = MultinomialNB()\n",
        "NB_classifier.fit(features, labels)\n",
        "\n",
        "def predict_with_naive_bayes_classifier(text):\n",
        "    X = count_vectorizer.transform([text])\n",
        "    prediction = NB_classifier.predict(X)\n",
        "    return prediction"
      ],
      "metadata": {
        "id": "1Uw1c7ltDRcu"
      },
      "execution_count": 5,
      "outputs": []
    },
    {
      "cell_type": "code",
      "source": [
        "# Model Training 2\n",
        "\n",
        "\n",
        "# Prepare features and labels\n",
        "from sklearn.feature_extraction.text import TfidfVectorizer\n",
        "tfidf_vectorizer = TfidfVectorizer()\n",
        "features = tfidf_vectorizer.fit_transform([doc[0] for doc in documents])\n",
        "labels = [doc[1] for doc in documents]\n",
        "\n",
        "\n",
        "# Support Vector Classifier\n",
        "from sklearn.svm import SVC\n",
        "SVC_classifier = SVC()\n",
        "SVC_classifier.fit(features, labels)\n",
        "\n",
        "def predict_with_support_vector_classifier(text):\n",
        "    X = tfidf_vectorizer.transform([text])\n",
        "    prediction = SVC_classifier.predict(X.toarray())\n",
        "    return prediction"
      ],
      "metadata": {
        "id": "C9QfsnxJICok"
      },
      "execution_count": 6,
      "outputs": []
    },
    {
      "cell_type": "code",
      "source": [
        "# Model Training 3\n",
        "\n",
        "\n",
        "# Prepare features and labels\n",
        "from sklearn.feature_extraction.text import HashingVectorizer\n",
        "hashing_vectorizer = HashingVectorizer()\n",
        "features = hashing_vectorizer.fit_transform([doc[0] for doc in documents])\n",
        "labels = [doc[1] for doc in documents]\n",
        "\n",
        "\n",
        "# Random Forest Classifier\n",
        "from sklearn.ensemble import RandomForestClassifier\n",
        "RF_classifier = RandomForestClassifier()\n",
        "RF_classifier.fit(features, labels)\n",
        "\n",
        "def predict_with_random_forest_classifier(text):\n",
        "    X = hashing_vectorizer.transform([text])\n",
        "    prediction = RF_classifier.predict(X)\n",
        "    return prediction"
      ],
      "metadata": {
        "id": "Xpz-WjlRWH_f"
      },
      "execution_count": 7,
      "outputs": []
    },
    {
      "cell_type": "markdown",
      "source": [
        "---"
      ],
      "metadata": {
        "id": "l7q3Ph5gW_ul"
      }
    },
    {
      "cell_type": "markdown",
      "source": [
        "## Spam Classification\n",
        "\n",
        "Example Predictions"
      ],
      "metadata": {
        "id": "konJhO_PYznJ"
      }
    },
    {
      "cell_type": "code",
      "source": [
        "example_text = \"cctb_student wants to subscribe to the french newsletter\"\n",
        "example_text = \"cctb_student wants to subscribe to the french newsletter because wants to learn and read\"\n",
        "\n",
        "classifiers = [\n",
        "    predict_with_naive_bayes_classifier,\n",
        "    predict_with_support_vector_classifier,\n",
        "    predict_with_random_forest_classifier\n",
        "]\n",
        "\n",
        "results = [classifier(example_text)[0] for classifier in classifiers]\n",
        "print(1) if sum(results) >= 2 else print(0)"
      ],
      "metadata": {
        "id": "DnL2IP_qXBfq",
        "colab": {
          "base_uri": "https://localhost:8080/"
        },
        "outputId": "33e2c528-6439-4a99-feba-b215e9b326a7"
      },
      "execution_count": 8,
      "outputs": [
        {
          "output_type": "stream",
          "name": "stdout",
          "text": [
            "1\n"
          ]
        }
      ]
    },
    {
      "cell_type": "code",
      "source": [
        "results"
      ],
      "metadata": {
        "colab": {
          "base_uri": "https://localhost:8080/"
        },
        "id": "oqek77eOIhxV",
        "outputId": "28f6c10b-3c11-4e36-cfc3-4dfe4e328028"
      },
      "execution_count": 11,
      "outputs": [
        {
          "output_type": "execute_result",
          "data": {
            "text/plain": [
              "[1, 1, 1]"
            ]
          },
          "metadata": {},
          "execution_count": 11
        }
      ]
    },
    {
      "cell_type": "code",
      "source": [
        "# Test with a new example\n",
        "new_example = count_vectorizer.transform([\"Free iPhone come and GetAT Ait now\"])\n",
        "prediction = NB_classifier.predict(new_example)\n",
        "print(prediction)"
      ],
      "metadata": {
        "id": "YvbwSfmfZtFl",
        "outputId": "3dd64eac-290b-48d4-ec7d-97e900923d96",
        "colab": {
          "base_uri": "https://localhost:8080/"
        }
      },
      "execution_count": 12,
      "outputs": [
        {
          "output_type": "stream",
          "name": "stdout",
          "text": [
            "[0]\n"
          ]
        }
      ]
    },
    {
      "cell_type": "code",
      "source": [],
      "metadata": {
        "id": "qOwfYrFBZw0J"
      },
      "execution_count": null,
      "outputs": []
    },
    {
      "cell_type": "code",
      "source": [
        "# classifiers = [\n",
        "#     predict_with_naive_bayes_classifier,\n",
        "#     predict_with_support_vector_classifier,\n",
        "#     predict_with_random_forest_classifier\n",
        "# ]\n",
        "# results = [classifier(example_text)[0] for classifier in classifiers]\n",
        "# print(1) if sum(results) >= 2 else print(0)\n",
        "# results\n",
        "\n",
        "\n",
        "# # # features = count_vectorizer.fit_transform([doc[0] for doc in documents])\n",
        "# # # labels = [doc[1] for doc in documents]\n",
        "\n",
        "# # # documents\n",
        "# # # [doc[0] for doc in documents]\n",
        "# # # print(count_vectorizer.fit_transform([doc[0] for doc in documents]))\n",
        "# # print(count_vectorizer.fit_transform([\"This is a test, oh my lets go test, love in the air love\", \"oh lets go love\"]))\n",
        "# # print(count_vectorizer.fit_transform([\"This is a test, oh my lets go test, love in the air love\", \"oh lets go love\"]).toarray())\n",
        "# # # features = count_vectorizer.fit_transform([\"This is a test, oh my lets go test, love in the air love\", \"oh lets go love\"])\n",
        "# # # labels = [1, 0]\n",
        "# # # NB_classifier2 = MultinomialNB()\n",
        "# # # NB_classifier2.fit(features, labels)\n",
        "# # # count_vectorizer.get_feature_names_out()\n",
        "\n",
        "\n",
        "# # tfidf_vectorizer = TfidfVectorizer()\n",
        "# # features = tfidf_vectorizer.fit_transform([doc[0] for doc in documents])\n",
        "# # labels = [doc[1] for doc in documents]\n",
        "# # print(tfidf_vectorizer.fit_transform([\"This is a test, oh my lets go test, love in the air love\", \"oh lets go love\"]).toarray())\n",
        "\n",
        "\n",
        "# # X = tfidf_vectorizer.fit_transform([\n",
        "# #     \"This is a test, oh my lets go test, love in the air love\",\n",
        "# #     \"oh lets go love\",\n",
        "# #     \"did I just say love too many times to test tfidf?\",\n",
        "# #     \"tfidf is wrong about the importance of the word love, but yea it checks with the method\"\n",
        "# # ])\n",
        "\n",
        "# # tfidf_vectorizer2 = TfidfVectorizer(norm=None)\n",
        "# tfidf_vectorizer3 = TfidfVectorizer()\n",
        "# X = tfidf_vectorizer3.fit_transform([\n",
        "#     \"This is a test, friends\",\n",
        "#     \"yes friends are lovely friends\",\n",
        "#     \"same scores?\"\n",
        "# ],)\n",
        "\n",
        "# # Get feature names (vocabulary)\n",
        "# feature_names = tfidf_vectorizer3.get_feature_names_out()\n",
        "\n",
        "# # Convert sparse matrix to dense array\n",
        "# dense_array = X.toarray()\n",
        "\n",
        "# df = pd.DataFrame(dense_array, columns=feature_names)\n",
        "\n",
        "# # Print DataFrame\n",
        "# print(df)\n",
        "\n",
        "# #  tf-idf(t, d) = tf(t, d) * idf(t)\n",
        "# ## checking the word \"friends\"\n",
        "# ### 1 occurence in the 1st doc | tf(t, d) == 1\n",
        "# ### idf(t) = log [ n / df(t) ] + 1\n",
        "# #### n == 3\n",
        "# #### df(t) == 2 for friends\n",
        "# ####  log(3/2) + 1 = 0.17609125905 + 1 = 1.17609125905\n",
        "# ##### tf-idf(t, d) = tf(t, d) * idf(t)\n",
        "# ##### = 1 *1.17609125905\n",
        "# ########\n",
        "\n",
        "# # doc: 0, word: friends\n",
        "# ## tf-idf = tf * idf\n",
        "# ### tf == 1\n",
        "# ### idf = log((num of docs + 1) / (docs containing the word + 1)) + 1 | as if there's one more document that contains the word\n",
        "# ### idf = log(4/3) + 1\n",
        "# #### tfidf for \"friends\" in doc 0: 1.1249387366\n",
        "\n",
        "# ##### it s not base 10... base e.\n",
        "\n",
        "# # TF IDF (default)\n",
        "# ## 1) count matrix\n",
        "# ## 2) ffidf transformer: tf * idf | + smoothing\n",
        "# ## normalization | L2 by default\n",
        "\n",
        "# # normalization:\n",
        "# # \"friends\": 1.287682\n",
        "# # \"is\": 1.693147\n",
        "# # \"test\": 1.693147\n",
        "# # \"this\": 1.693147\n",
        "# ## 1 - euclidean norm: square root of the sum of squared TF-IDF values:\n",
        "# ### square root of (  (1.287682)2+(1.693147)2+(1.693147)2+(1.693147)2​  )  --- approx. 3.2028\n",
        "# ## 2- divide each tf-idf value with euclidean norm\n",
        "# ### 1.287682 / 3.2028 = 0.4020488322717622\n",
        "# ##### normalziations are done on the document level.\n",
        "\n",
        "\n",
        "\n",
        "# cvectorizer0 = CountVectorizer()\n",
        "# print(cvectorizer0.fit_transform([\"Oh la la\", \"Oh my!\"]).toarray())\n",
        "\n",
        "\n",
        "# cvectorizer0.get_feature_names_out()\n",
        "\n",
        "\n",
        "# print(cvectorizer0.fit_transform([\"Oh la la\", \"Oh my!\"]))"
      ],
      "metadata": {
        "id": "hZ8UwxWQIiRh"
      },
      "execution_count": 9,
      "outputs": []
    },
    {
      "cell_type": "code",
      "source": [],
      "metadata": {
        "id": "DJg3N-URmGAS",
        "outputId": "1f9afa09-52ae-46c5-a138-0a48cad18e3c",
        "colab": {
          "base_uri": "https://localhost:8080/"
        }
      },
      "execution_count": 19,
      "outputs": [
        {
          "output_type": "stream",
          "name": "stdout",
          "text": [
            "[[2 0 1]\n",
            " [0 1 1]]\n"
          ]
        }
      ]
    }
  ]
}