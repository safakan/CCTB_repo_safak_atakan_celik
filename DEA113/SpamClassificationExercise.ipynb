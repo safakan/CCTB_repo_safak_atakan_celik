{
  "nbformat": 4,
  "nbformat_minor": 0,
  "metadata": {
    "colab": {
      "provenance": [],
      "authorship_tag": "ABX9TyOvzQqUZznNwp576Z2rWniq",
      "include_colab_link": true
    },
    "kernelspec": {
      "name": "python3",
      "display_name": "Python 3"
    },
    "language_info": {
      "name": "python"
    }
  },
  "cells": [
    {
      "cell_type": "markdown",
      "metadata": {
        "id": "view-in-github",
        "colab_type": "text"
      },
      "source": [
        "<a href=\"https://colab.research.google.com/github/safakan/CCTB_repo_safak_atakan_celik/blob/main/DEA113/SpamClassificationExercise.ipynb\" target=\"_parent\"><img src=\"https://colab.research.google.com/assets/colab-badge.svg\" alt=\"Open In Colab\"/></a>"
      ]
    },
    {
      "cell_type": "code",
      "execution_count": null,
      "metadata": {
        "id": "YtQS8zS_MxxB"
      },
      "outputs": [],
      "source": [
        "import pandas as pd\n",
        "import numpy as np"
      ]
    },
    {
      "cell_type": "code",
      "source": [
        "# from nltk import download\n",
        "import nltk\n",
        "from nltk.tokenize import word_tokenize\n",
        "from nltk.corpus import stopwords\n",
        "\n",
        "\n",
        "resources = [\"punkt_tab\", \"stopwords\"]\n",
        "for resource in resources:\n",
        "    nltk.download(resource)"
      ],
      "metadata": {
        "id": "EGl1tbm7UALw"
      },
      "execution_count": null,
      "outputs": []
    },
    {
      "cell_type": "code",
      "source": [
        "data = [\n",
        "    # Non-Spam (label = 1)\n",
        "    {\"text\": \"I’m excited to join the French newsletter to improve my language skills!\", \"label\": 1},\n",
        "    {\"text\": \"Please enroll me! I can’t wait to start learning French grammar.\", \"label\": 1},\n",
        "    {\"text\": \"As a cctb_student, I need this newsletter for my coursework.\", \"label\": 1},\n",
        "    {\"text\": \"Looking forward to weekly French vocabulary lessons!\", \"label\": 1},\n",
        "    {\"text\": \"Your newsletter will help me prepare for my French exam. Thank you!\", \"label\": 1},\n",
        "    {\"text\": \"cctb_student here – please add me to the mailing list.\", \"label\": 1},\n",
        "    {\"text\": \"I’m eager to practice French writing with your tips.\", \"label\": 1},\n",
        "    {\"text\": \"Interested in learning conversational French for my trip to Paris.\", \"label\": 1},\n",
        "    {\"text\": \"This is exactly what I need to stay motivated while studying French!\", \"label\": 1},\n",
        "    {\"text\": \"cctb_student registration: I’d love cultural tips alongside lessons.\", \"label\": 1},\n",
        "    {\"text\": \"Thrilled to enhance my pronunciation with your expert guidance.\", \"label\": 1},\n",
        "    {\"text\": \"Count me in! I want daily French practice emails.\", \"label\": 1},\n",
        "    {\"text\": \"I’ve heard amazing things about your French learning resources.\", \"label\": 1},\n",
        "    {\"text\": \"As a beginner, structured lessons via email would be perfect.\", \"label\": 1},\n",
        "    {\"text\": \"cctb_student – I want to improve my reading comprehension!\", \"label\": 1},\n",
        "\n",
        "    # Spam (label = 0)\n",
        "    {\"text\": \"Free iPhone giveaway! Click here to claim instantly.\", \"label\": 0},\n",
        "    {\"text\": \"This service is useless. Don’t bother signing up.\", \"label\": 0},\n",
        "    {\"text\": \"Buy cheap watches online – best deals guaranteed!\", \"label\": 0},\n",
        "    {\"text\": \"I hate French; why would anyone learn this?\", \"label\": 0},\n",
        "    {\"text\": \"Sign me up.\", \"label\": 0},\n",
        "    {\"text\": \"Earn $500 daily with this secret method!\", \"label\": 0},\n",
        "    {\"text\": \"Your newsletter sucks. Stop spamming me.\", \"label\": 0},\n",
        "    {\"text\": \"Random text to test the system. Ignore.\", \"label\": 0},\n",
        "    {\"text\": \"Promote your business with our marketing services!\", \"label\": 0},\n",
        "    {\"text\": \"I didn’t ask for this. Remove me now.\", \"label\": 0},\n",
        "    {\"text\": \"Who even uses French anymore? Useless.\", \"label\": 0},\n",
        "    {\"text\": \"Get discounted software licenses here!\", \"label\": 0},\n",
        "    {\"text\": \"This is a scam; nobody should subscribe.\", \"label\": 0},\n",
        "    {\"text\": \"Why is the registration so complicated?!\", \"label\": 0},\n",
        "    {\"text\": \"I’m just here to post comments, not learn.\", \"label\": 0},\n",
        "    {\"text\": \"cctb_student, I don't even know what is this\", \"label\": 0},\n",
        "    {\"text\": \"cctb_student, let me in because I have my reasons\", \"label\": 0},\n",
        "]\n",
        "\n",
        "df = pd.DataFrame(data)"
      ],
      "metadata": {
        "id": "_leouU4TUBlJ"
      },
      "execution_count": null,
      "outputs": []
    },
    {
      "cell_type": "code",
      "source": [
        "# Tokenization\n",
        "df[\"tokens\"] = df[\"text\"].apply(lambda x: nltk.word_tokenize(x))"
      ],
      "metadata": {
        "id": "FCBwusXcUDL9"
      },
      "execution_count": null,
      "outputs": []
    }
  ]
}