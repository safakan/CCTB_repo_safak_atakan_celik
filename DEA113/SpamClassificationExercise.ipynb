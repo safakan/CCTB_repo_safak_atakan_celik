{
  "nbformat": 4,
  "nbformat_minor": 0,
  "metadata": {
    "colab": {
      "provenance": [],
      "authorship_tag": "ABX9TyO40UT9jzKxNgkNSvXtpqQF",
      "include_colab_link": true
    },
    "kernelspec": {
      "name": "python3",
      "display_name": "Python 3"
    },
    "language_info": {
      "name": "python"
    }
  },
  "cells": [
    {
      "cell_type": "markdown",
      "metadata": {
        "id": "view-in-github",
        "colab_type": "text"
      },
      "source": [
        "<a href=\"https://colab.research.google.com/github/safakan/CCTB_repo_safak_atakan_celik/blob/main/DEA113/SpamClassificationExercise.ipynb\" target=\"_parent\"><img src=\"https://colab.research.google.com/assets/colab-badge.svg\" alt=\"Open In Colab\"/></a>"
      ]
    },
    {
      "cell_type": "code",
      "execution_count": 106,
      "metadata": {
        "id": "YtQS8zS_MxxB"
      },
      "outputs": [],
      "source": [
        "import pandas as pd\n",
        "import numpy as np"
      ]
    },
    {
      "cell_type": "code",
      "source": [
        "import nltk\n",
        "\n",
        "resources = [\"punkt_tab\", \"stopwords\"]\n",
        "# vader_lexicon: SentimentIntensityAnalyzer()\n",
        "for resource in resources:\n",
        "    nltk.download(resource)"
      ],
      "metadata": {
        "id": "EGl1tbm7UALw",
        "colab": {
          "base_uri": "https://localhost:8080/"
        },
        "outputId": "df0fac00-9846-4719-a0bc-765d0ca051de"
      },
      "execution_count": 107,
      "outputs": [
        {
          "output_type": "stream",
          "name": "stderr",
          "text": [
            "[nltk_data] Downloading package punkt_tab to /root/nltk_data...\n",
            "[nltk_data]   Package punkt_tab is already up-to-date!\n",
            "[nltk_data] Downloading package stopwords to /root/nltk_data...\n",
            "[nltk_data]   Package stopwords is already up-to-date!\n"
          ]
        }
      ]
    },
    {
      "cell_type": "markdown",
      "source": [
        "## TRAINING DATA"
      ],
      "metadata": {
        "id": "m-jrV4472g6T"
      }
    },
    {
      "cell_type": "code",
      "source": [
        "data = [\n",
        "    # Non-Spam (label = 1)\n",
        "    {\"text\": \"Excited to join the French newsletter to improve my language skills!\", \"label\": 1},\n",
        "    {\"text\": \"Please enroll me! Can’t wait to start learning French grammar.\", \"label\": 1},\n",
        "    {\"text\": \"As a cctb_student, need this newsletter for my coursework.\", \"label\": 1},\n",
        "    {\"text\": \"Looking forward to weekly French vocabulary lessons!\", \"label\": 1},\n",
        "    {\"text\": \"Your newsletter will help me prepare for my French exam. Thank you!\", \"label\": 1},\n",
        "    {\"text\": \"cctb_student here – please add me to the mailing list.\", \"label\": 1},\n",
        "    {\"text\": \"I’m eager to practice French writing with your tips.\", \"label\": 1},\n",
        "    {\"text\": \"Interested in learning conversational French for my trip to Paris.\", \"label\": 1},\n",
        "    {\"text\": \"This is exactly what I need to stay motivated while studying French!\", \"label\": 1},\n",
        "    {\"text\": \"cctb_student registration: I’d love cultural tips alongside lessons.\", \"label\": 1},\n",
        "    {\"text\": \"Thrilled to enhance my pronunciation with your expert guidance.\", \"label\": 1},\n",
        "    {\"text\": \"Count me in! I want daily French practice emails.\", \"label\": 1},\n",
        "    {\"text\": \"I’ve heard amazing things about your French learning resources.\", \"label\": 1},\n",
        "    {\"text\": \"As a beginner, structured lessons via email would be perfect.\", \"label\": 1},\n",
        "    {\"text\": \"cctb_student – I want to improve my reading comprehension!\", \"label\": 1},\n",
        "    {\"text\": \"cctb_student – what's happening in this french newsletter my dear\", \"label\": 1},\n",
        "    {\"text\": \"I want to subscribe to the french newsletter to learn\", \"label\": 1},\n",
        "    {\"text\": \"I want to join because I want to learn\", \"label\": 1},\n",
        "    {\"text\": \"I want to be in, I plan to read and get exposed to french content\", \"label\": 1},\n",
        "    {\"text\": \"Let me in I just want to learn and continue\", \"label\": 1},\n",
        "    {\"text\": \"cctb_student it might be good to read some content in french sometime\", \"label\": 1},\n",
        "    {\"text\": \"cctb_student love this woho french newsletter I want to participate and learn\", \"label\": 1},\n",
        "    {\"text\": \"I loved the concept of the french newsletter, I heard it at cctb\", \"label\": 1},\n",
        "    {\"text\": \"I feel so happy to be part of this\", \"label\": 1},\n",
        "    {\"text\": \"read french expose content exposure cctb student\", \"label\": 1},\n",
        "    {\"text\": \"cctb student reads french 101 class newsletter\", \"label\": 1},\n",
        "\n",
        "    # Spam (label = 0)\n",
        "    {\"text\": \"Free iPhone giveaway! Click here to claim instantly.\", \"label\": 0},\n",
        "    {\"text\": \"This service is useless. Don’t bother signing up.\", \"label\": 0},\n",
        "    {\"text\": \"Buy cheap watches online – best deals guaranteed!\", \"label\": 0},\n",
        "    {\"text\": \"I hate French; why would anyone learn this?\", \"label\": 0},\n",
        "    {\"text\": \"Sign me up.\", \"label\": 0},\n",
        "    {\"text\": \"Earn $500 daily with this secret method!\", \"label\": 0},\n",
        "    {\"text\": \"Your newsletter sucks. Stop spamming me.\", \"label\": 0},\n",
        "    {\"text\": \"Random text to test the system. Ignore.\", \"label\": 0},\n",
        "    {\"text\": \"Promote your business with our marketing services!\", \"label\": 0},\n",
        "    {\"text\": \"I didn’t ask for this. Remove me now.\", \"label\": 0},\n",
        "    {\"text\": \"Who even uses French anymore? Useless.\", \"label\": 0},\n",
        "    {\"text\": \"Get discounted software licenses here!\", \"label\": 0},\n",
        "    {\"text\": \"This is a scam; nobody should subscribe.\", \"label\": 0},\n",
        "    {\"text\": \"Why is the registration so complicated?!\", \"label\": 0},\n",
        "    {\"text\": \"I’m just here to post comments, not learn.\", \"label\": 0},\n",
        "    {\"text\": \"cctb_student, I don't even know what is this\", \"label\": 0},\n",
        "    {\"text\": \"cctb_student, let me in because I have my reasons\", \"label\": 0},\n",
        "    {\"text\": \"!@#$%^&*()_+{}|:\\\"<>?\", \"label\": 0},\n",
        "    {\"text\": \"~~~~~~~~~~\", \"label\": 0},\n",
        "    {\"text\": \"//////??????//////\", \"label\": 0},\n",
        "    {\"text\": \"(*&^%$#@!)\", \"label\": 0},\n",
        "    {\"text\": \".........,,,,,,,,,,\", \"label\": 0},\n",
        "    {\"text\": \"###########@@@@@@@\", \"label\": 0},\n",
        "    {\"text\": \"<<<<>>>>====?????\", \"label\": 0},\n",
        "    {\"text\": \"I want to join\", \"label\": 0},\n",
        "    {\"text\": \"I want to subscribe\", \"label\": 0},\n",
        "    {\"text\": \"I want to be in\", \"label\": 0},\n",
        "    {\"text\": \"Let me in\", \"label\": 0}\n",
        "]\n",
        "\n",
        "df = pd.DataFrame(data)"
      ],
      "metadata": {
        "id": "_leouU4TUBlJ"
      },
      "execution_count": 108,
      "outputs": []
    },
    {
      "cell_type": "markdown",
      "source": [
        "## PREPROCESSING"
      ],
      "metadata": {
        "id": "m_AJSYH52jkY"
      }
    },
    {
      "cell_type": "code",
      "source": [
        "# Tokenization\n",
        "from nltk.tokenize import word_tokenize\n",
        "df[\"tokens\"] = df[\"text\"].apply(lambda x: nltk.word_tokenize(x))\n",
        "\n",
        "\n",
        "# Filtering tokens: removing stop words\n",
        "from nltk.corpus import stopwords\n",
        "stop_words = set(stopwords.words('english'))\n",
        "df[\"filtered_tokens\"] = df[\"tokens\"].apply(lambda x: [word for word in x if word.lower() not in stop_words])\n",
        "\n",
        "\n",
        "# Stemming\n",
        "from nltk.stem import PorterStemmer\n",
        "stemmer = PorterStemmer()\n",
        "df[\"stemmed_tokens\"] = df[\"filtered_tokens\"].apply(lambda x: [stemmer.stem(word) for word in x])\n",
        "\n",
        "\n",
        "# Preprocessed text\n",
        "df[\"preprocessed_text\"] = df[\"stemmed_tokens\"].apply(lambda x: \" \".join(x))\n",
        "\n",
        "\n",
        "# Training data documents\n",
        "documents = list(df[[\"preprocessed_text\", \"label\"]].itertuples(index=False, name=None))"
      ],
      "metadata": {
        "id": "FCBwusXcUDL9"
      },
      "execution_count": 109,
      "outputs": []
    },
    {
      "cell_type": "markdown",
      "source": [
        "## TRAINING MODELS"
      ],
      "metadata": {
        "id": "baQT_7vF2nU4"
      }
    },
    {
      "cell_type": "code",
      "source": [
        "# Model Training 1\n",
        "\n",
        "\n",
        "# Prepare features and labels\n",
        "from sklearn.feature_extraction.text import CountVectorizer\n",
        "count_vectorizer = CountVectorizer()\n",
        "features = count_vectorizer.fit_transform([doc[0] for doc in documents])\n",
        "labels = [doc[1] for doc in documents]\n",
        "\n",
        "# Naive Bayes Classifier\n",
        "from sklearn.naive_bayes import MultinomialNB\n",
        "NB_classifier = MultinomialNB()\n",
        "NB_classifier.fit(features, labels)\n",
        "\n",
        "def predict_with_naive_bayes_classifier(text):\n",
        "    X = count_vectorizer.transform([text])\n",
        "    prediction = NB_classifier.predict(X)\n",
        "    return prediction"
      ],
      "metadata": {
        "id": "1Uw1c7ltDRcu"
      },
      "execution_count": 110,
      "outputs": []
    },
    {
      "cell_type": "code",
      "source": [
        "# Model Training 2\n",
        "\n",
        "\n",
        "# Prepare features and labels\n",
        "from sklearn.feature_extraction.text import TfidfVectorizer\n",
        "tfidf_vectorizer = TfidfVectorizer()\n",
        "features = tfidf_vectorizer.fit_transform([doc[0] for doc in documents])\n",
        "labels = [doc[1] for doc in documents]\n",
        "\n",
        "\n",
        "# Support Vector Classifier\n",
        "from sklearn.svm import SVC\n",
        "SVC_classifier = SVC()\n",
        "SVC_classifier.fit(features, labels)\n",
        "\n",
        "def predict_with_support_vector_classifier(text):\n",
        "    X = tfidf_vectorizer.transform([text])\n",
        "    prediction = SVC_classifier.predict(X.toarray())\n",
        "    return prediction"
      ],
      "metadata": {
        "id": "C9QfsnxJICok"
      },
      "execution_count": 111,
      "outputs": []
    },
    {
      "cell_type": "code",
      "source": [
        "# Model Training 3\n",
        "\n",
        "\n",
        "# Prepare features and labels\n",
        "from sklearn.feature_extraction.text import HashingVectorizer\n",
        "hashing_vectorizer = HashingVectorizer()\n",
        "features = hashing_vectorizer.fit_transform([doc[0] for doc in documents])\n",
        "labels = [doc[1] for doc in documents]\n",
        "\n",
        "# Random Forest Classifier\n",
        "from sklearn.ensemble import RandomForestClassifier\n",
        "RF_classifier = RandomForestClassifier()\n",
        "RF_classifier.fit(features, labels)\n",
        "\n",
        "def predict_with_random_forest_classifier(text):\n",
        "    X = hashing_vectorizer.transform([text])\n",
        "    prediction = RF_classifier.predict(X)\n",
        "    return prediction"
      ],
      "metadata": {
        "id": "Xpz-WjlRWH_f"
      },
      "execution_count": 112,
      "outputs": []
    },
    {
      "cell_type": "markdown",
      "source": [
        "---"
      ],
      "metadata": {
        "id": "l7q3Ph5gW_ul"
      }
    },
    {
      "cell_type": "markdown",
      "source": [
        "## Spam Classification\n",
        "\n",
        "Example Predictions"
      ],
      "metadata": {
        "id": "konJhO_PYznJ"
      }
    },
    {
      "cell_type": "code",
      "source": [
        "example_text = \"cctb_student wants to subscribe to the french newsletter\"\n",
        "example_text = \"cctb_student wants to subscribe to the french newsletter because wants to learn and read\"\n",
        "\n",
        "classifiers = [\n",
        "    predict_with_naive_bayes_classifier,\n",
        "    predict_with_support_vector_classifier,\n",
        "    predict_with_random_forest_classifier\n",
        "]\n",
        "\n",
        "results = [classifier(example_text)[0] for classifier in classifiers]\n",
        "print(1) if sum(results) == 3 else print(0)"
      ],
      "metadata": {
        "id": "DnL2IP_qXBfq",
        "colab": {
          "base_uri": "https://localhost:8080/"
        },
        "outputId": "b4eee13c-d362-4e57-b8e1-33dea1dfe552"
      },
      "execution_count": 113,
      "outputs": [
        {
          "output_type": "stream",
          "name": "stdout",
          "text": [
            "1\n"
          ]
        }
      ]
    },
    {
      "cell_type": "code",
      "source": [
        "results"
      ],
      "metadata": {
        "colab": {
          "base_uri": "https://localhost:8080/"
        },
        "id": "oqek77eOIhxV",
        "outputId": "31139b8c-170d-4377-c319-4c864aab9582"
      },
      "execution_count": 114,
      "outputs": [
        {
          "output_type": "execute_result",
          "data": {
            "text/plain": [
              "[1, 1, 1]"
            ]
          },
          "metadata": {},
          "execution_count": 114
        }
      ]
    },
    {
      "cell_type": "code",
      "source": [],
      "metadata": {
        "id": "hZ8UwxWQIiRh"
      },
      "execution_count": 114,
      "outputs": []
    }
  ]
}