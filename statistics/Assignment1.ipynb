{
  "nbformat": 4,
  "nbformat_minor": 0,
  "metadata": {
    "colab": {
      "provenance": [],
      "authorship_tag": "ABX9TyOkQ9sB/lXESbY5J3WQmttt",
      "include_colab_link": true
    },
    "kernelspec": {
      "name": "python3",
      "display_name": "Python 3"
    },
    "language_info": {
      "name": "python"
    }
  },
  "cells": [
    {
      "cell_type": "markdown",
      "metadata": {
        "id": "view-in-github",
        "colab_type": "text"
      },
      "source": [
        "<a href=\"https://colab.research.google.com/github/safakan/CCTB_repo_safak_atakan_celik/blob/main/statistics/Assignment1.ipynb\" target=\"_parent\"><img src=\"https://colab.research.google.com/assets/colab-badge.svg\" alt=\"Open In Colab\"/></a>"
      ]
    },
    {
      "cell_type": "code",
      "execution_count": 1,
      "metadata": {
        "id": "PLTfKrV2mhob"
      },
      "outputs": [],
      "source": [
        "import pandas as pd\n",
        "import scipy\n"
      ]
    },
    {
      "cell_type": "markdown",
      "source": [
        "# Question 1\n",
        "2 population means, known stds"
      ],
      "metadata": {
        "id": "Ylzl6GvU0KOv"
      }
    },
    {
      "cell_type": "code",
      "source": [
        "playoff_n = 30\n",
        "playoff_mean = 189.3\n",
        "playoff_std = 25\n",
        "\n",
        "regular_n = 32\n",
        "regular_mean = 175.8\n",
        "regular_std = 21\n",
        "\n",
        "\n",
        "# helper function for std error to ease calculations\n",
        "def calculate_stderr_of_difference_in_means_for_normal_two_mean_comparison(std1, n1, std2, n2):\n",
        "  return (((std1**2) / n1) + ((std2**2) / n2)) ** 0.5\n",
        "\n",
        "# helper function for z statistic\n",
        "def calculate_z_statistic_when_null_hypothesis_assumes_equal_means(mean1, mean2, stderr):\n",
        "  \"\"\"\n",
        "  Calculate the z statistic for two means.\n",
        "  Works only when null hypothesis assumes both means to be equal\n",
        "  \"\"\"\n",
        "  return ((mean1 - mean2) / stderr)"
      ],
      "metadata": {
        "id": "pNegmCUgrHv6"
      },
      "execution_count": 2,
      "outputs": []
    },
    {
      "cell_type": "code",
      "source": [
        "# empty df to store values to be used\n",
        "df_test_stats = pd.DataFrame(columns=['alpha', 'critical_z', 'standard_error_of_difference_in_means', 'z_statistic', 'p_value'])"
      ],
      "metadata": {
        "id": "4Ib5BWx2nRna"
      },
      "execution_count": 3,
      "outputs": []
    },
    {
      "cell_type": "code",
      "source": [
        "# level of significance\n",
        "df_test_stats.loc[0, \"alpha\"] = 0.02\n",
        "\n",
        "# critical z value for the right tail\n",
        "df_test_stats.loc[0, \"critical_z\"] = scipy.stats.norm.ppf(1 - (df_test_stats.loc[0, \"alpha\"]))\n",
        "\n",
        "# standard error of difference in means\n",
        "df_test_stats.loc[0, \"standard_error_of_difference_in_means\"] = calculate_stderr_of_difference_in_means_for_normal_two_mean_comparison(playoff_std, playoff_n, regular_std, regular_n)\n",
        "\n",
        "# z statistic\n",
        "df_test_stats.loc[0, \"z_statistic\"] = calculate_z_statistic_when_null_hypothesis_assumes_equal_means(playoff_mean, regular_mean, df_test_stats.loc[0, \"standard_error_of_difference_in_means\"])\n",
        "\n",
        "# p value, area under the curve after the right tail for the z statistic\n",
        "df_test_stats.loc[0, \"p_value\"] = 1 - scipy.stats.norm.cdf(df_test_stats.loc[0, \"z_statistic\"])\n",
        "\n",
        "# comparing p value - alpha & z statistic - critical z pairs to see the final decision.\n",
        "# double check for safety\n",
        "conditions = [(df_test_stats.loc[0, \"p_value\"] < df_test_stats.loc[0, \"alpha\"]), (df_test_stats.loc[0, \"z_statistic\"] > df_test_stats.loc[0, \"critical_z\"])]\n",
        "\n",
        "if conditions[0] and conditions[1]:\n",
        "  print(\"Reject null hypothesis\")\n",
        "else:\n",
        "  print(\"Fail to reject null hypothesis\")"
      ],
      "metadata": {
        "colab": {
          "base_uri": "https://localhost:8080/"
        },
        "id": "3ukl212ao1F5",
        "outputId": "634a9d4b-849a-4b81-cbd6-5dfa2381fb77"
      },
      "execution_count": 4,
      "outputs": [
        {
          "output_type": "stream",
          "name": "stdout",
          "text": [
            "Reject null hypothesis\n"
          ]
        }
      ]
    },
    {
      "cell_type": "code",
      "source": [
        "df_test_stats"
      ],
      "metadata": {
        "colab": {
          "base_uri": "https://localhost:8080/",
          "height": 89
        },
        "id": "53mWpwhqriK8",
        "outputId": "e3afa29d-1505-43f2-9687-e0304d9f374b"
      },
      "execution_count": 5,
      "outputs": [
        {
          "output_type": "execute_result",
          "data": {
            "text/plain": [
              "  alpha critical_z standard_error_of_difference_in_means z_statistic   p_value\n",
              "0  0.02   2.053749                              5.883416    2.294585  0.010878"
            ],
            "text/html": [
              "\n",
              "  <div id=\"df-b925cd55-4f47-40da-b6b7-5c62e7501307\" class=\"colab-df-container\">\n",
              "    <div>\n",
              "<style scoped>\n",
              "    .dataframe tbody tr th:only-of-type {\n",
              "        vertical-align: middle;\n",
              "    }\n",
              "\n",
              "    .dataframe tbody tr th {\n",
              "        vertical-align: top;\n",
              "    }\n",
              "\n",
              "    .dataframe thead th {\n",
              "        text-align: right;\n",
              "    }\n",
              "</style>\n",
              "<table border=\"1\" class=\"dataframe\">\n",
              "  <thead>\n",
              "    <tr style=\"text-align: right;\">\n",
              "      <th></th>\n",
              "      <th>alpha</th>\n",
              "      <th>critical_z</th>\n",
              "      <th>standard_error_of_difference_in_means</th>\n",
              "      <th>z_statistic</th>\n",
              "      <th>p_value</th>\n",
              "    </tr>\n",
              "  </thead>\n",
              "  <tbody>\n",
              "    <tr>\n",
              "      <th>0</th>\n",
              "      <td>0.02</td>\n",
              "      <td>2.053749</td>\n",
              "      <td>5.883416</td>\n",
              "      <td>2.294585</td>\n",
              "      <td>0.010878</td>\n",
              "    </tr>\n",
              "  </tbody>\n",
              "</table>\n",
              "</div>\n",
              "    <div class=\"colab-df-buttons\">\n",
              "\n",
              "  <div class=\"colab-df-container\">\n",
              "    <button class=\"colab-df-convert\" onclick=\"convertToInteractive('df-b925cd55-4f47-40da-b6b7-5c62e7501307')\"\n",
              "            title=\"Convert this dataframe to an interactive table.\"\n",
              "            style=\"display:none;\">\n",
              "\n",
              "  <svg xmlns=\"http://www.w3.org/2000/svg\" height=\"24px\" viewBox=\"0 -960 960 960\">\n",
              "    <path d=\"M120-120v-720h720v720H120Zm60-500h600v-160H180v160Zm220 220h160v-160H400v160Zm0 220h160v-160H400v160ZM180-400h160v-160H180v160Zm440 0h160v-160H620v160ZM180-180h160v-160H180v160Zm440 0h160v-160H620v160Z\"/>\n",
              "  </svg>\n",
              "    </button>\n",
              "\n",
              "  <style>\n",
              "    .colab-df-container {\n",
              "      display:flex;\n",
              "      gap: 12px;\n",
              "    }\n",
              "\n",
              "    .colab-df-convert {\n",
              "      background-color: #E8F0FE;\n",
              "      border: none;\n",
              "      border-radius: 50%;\n",
              "      cursor: pointer;\n",
              "      display: none;\n",
              "      fill: #1967D2;\n",
              "      height: 32px;\n",
              "      padding: 0 0 0 0;\n",
              "      width: 32px;\n",
              "    }\n",
              "\n",
              "    .colab-df-convert:hover {\n",
              "      background-color: #E2EBFA;\n",
              "      box-shadow: 0px 1px 2px rgba(60, 64, 67, 0.3), 0px 1px 3px 1px rgba(60, 64, 67, 0.15);\n",
              "      fill: #174EA6;\n",
              "    }\n",
              "\n",
              "    .colab-df-buttons div {\n",
              "      margin-bottom: 4px;\n",
              "    }\n",
              "\n",
              "    [theme=dark] .colab-df-convert {\n",
              "      background-color: #3B4455;\n",
              "      fill: #D2E3FC;\n",
              "    }\n",
              "\n",
              "    [theme=dark] .colab-df-convert:hover {\n",
              "      background-color: #434B5C;\n",
              "      box-shadow: 0px 1px 3px 1px rgba(0, 0, 0, 0.15);\n",
              "      filter: drop-shadow(0px 1px 2px rgba(0, 0, 0, 0.3));\n",
              "      fill: #FFFFFF;\n",
              "    }\n",
              "  </style>\n",
              "\n",
              "    <script>\n",
              "      const buttonEl =\n",
              "        document.querySelector('#df-b925cd55-4f47-40da-b6b7-5c62e7501307 button.colab-df-convert');\n",
              "      buttonEl.style.display =\n",
              "        google.colab.kernel.accessAllowed ? 'block' : 'none';\n",
              "\n",
              "      async function convertToInteractive(key) {\n",
              "        const element = document.querySelector('#df-b925cd55-4f47-40da-b6b7-5c62e7501307');\n",
              "        const dataTable =\n",
              "          await google.colab.kernel.invokeFunction('convertToInteractive',\n",
              "                                                    [key], {});\n",
              "        if (!dataTable) return;\n",
              "\n",
              "        const docLinkHtml = 'Like what you see? Visit the ' +\n",
              "          '<a target=\"_blank\" href=https://colab.research.google.com/notebooks/data_table.ipynb>data table notebook</a>'\n",
              "          + ' to learn more about interactive tables.';\n",
              "        element.innerHTML = '';\n",
              "        dataTable['output_type'] = 'display_data';\n",
              "        await google.colab.output.renderOutput(dataTable, element);\n",
              "        const docLink = document.createElement('div');\n",
              "        docLink.innerHTML = docLinkHtml;\n",
              "        element.appendChild(docLink);\n",
              "      }\n",
              "    </script>\n",
              "  </div>\n",
              "\n",
              "\n",
              "  <div id=\"id_49fc7b65-c0b5-4e7c-ae13-ca9019784903\">\n",
              "    <style>\n",
              "      .colab-df-generate {\n",
              "        background-color: #E8F0FE;\n",
              "        border: none;\n",
              "        border-radius: 50%;\n",
              "        cursor: pointer;\n",
              "        display: none;\n",
              "        fill: #1967D2;\n",
              "        height: 32px;\n",
              "        padding: 0 0 0 0;\n",
              "        width: 32px;\n",
              "      }\n",
              "\n",
              "      .colab-df-generate:hover {\n",
              "        background-color: #E2EBFA;\n",
              "        box-shadow: 0px 1px 2px rgba(60, 64, 67, 0.3), 0px 1px 3px 1px rgba(60, 64, 67, 0.15);\n",
              "        fill: #174EA6;\n",
              "      }\n",
              "\n",
              "      [theme=dark] .colab-df-generate {\n",
              "        background-color: #3B4455;\n",
              "        fill: #D2E3FC;\n",
              "      }\n",
              "\n",
              "      [theme=dark] .colab-df-generate:hover {\n",
              "        background-color: #434B5C;\n",
              "        box-shadow: 0px 1px 3px 1px rgba(0, 0, 0, 0.15);\n",
              "        filter: drop-shadow(0px 1px 2px rgba(0, 0, 0, 0.3));\n",
              "        fill: #FFFFFF;\n",
              "      }\n",
              "    </style>\n",
              "    <button class=\"colab-df-generate\" onclick=\"generateWithVariable('df_test_stats')\"\n",
              "            title=\"Generate code using this dataframe.\"\n",
              "            style=\"display:none;\">\n",
              "\n",
              "  <svg xmlns=\"http://www.w3.org/2000/svg\" height=\"24px\"viewBox=\"0 0 24 24\"\n",
              "       width=\"24px\">\n",
              "    <path d=\"M7,19H8.4L18.45,9,17,7.55,7,17.6ZM5,21V16.75L18.45,3.32a2,2,0,0,1,2.83,0l1.4,1.43a1.91,1.91,0,0,1,.58,1.4,1.91,1.91,0,0,1-.58,1.4L9.25,21ZM18.45,9,17,7.55Zm-12,3A5.31,5.31,0,0,0,4.9,8.1,5.31,5.31,0,0,0,1,6.5,5.31,5.31,0,0,0,4.9,4.9,5.31,5.31,0,0,0,6.5,1,5.31,5.31,0,0,0,8.1,4.9,5.31,5.31,0,0,0,12,6.5,5.46,5.46,0,0,0,6.5,12Z\"/>\n",
              "  </svg>\n",
              "    </button>\n",
              "    <script>\n",
              "      (() => {\n",
              "      const buttonEl =\n",
              "        document.querySelector('#id_49fc7b65-c0b5-4e7c-ae13-ca9019784903 button.colab-df-generate');\n",
              "      buttonEl.style.display =\n",
              "        google.colab.kernel.accessAllowed ? 'block' : 'none';\n",
              "\n",
              "      buttonEl.onclick = () => {\n",
              "        google.colab.notebook.generateWithVariable('df_test_stats');\n",
              "      }\n",
              "      })();\n",
              "    </script>\n",
              "  </div>\n",
              "\n",
              "    </div>\n",
              "  </div>\n"
            ],
            "application/vnd.google.colaboratory.intrinsic+json": {
              "type": "dataframe",
              "variable_name": "df_test_stats",
              "summary": "{\n  \"name\": \"df_test_stats\",\n  \"rows\": 1,\n  \"fields\": [\n    {\n      \"column\": \"alpha\",\n      \"properties\": {\n        \"dtype\": \"date\",\n        \"min\": 0.02,\n        \"max\": 0.02,\n        \"num_unique_values\": 1,\n        \"samples\": [\n          0.02\n        ],\n        \"semantic_type\": \"\",\n        \"description\": \"\"\n      }\n    },\n    {\n      \"column\": \"critical_z\",\n      \"properties\": {\n        \"dtype\": \"date\",\n        \"min\": 2.0537489106318225,\n        \"max\": 2.0537489106318225,\n        \"num_unique_values\": 1,\n        \"samples\": [\n          2.0537489106318225\n        ],\n        \"semantic_type\": \"\",\n        \"description\": \"\"\n      }\n    },\n    {\n      \"column\": \"standard_error_of_difference_in_means\",\n      \"properties\": {\n        \"dtype\": \"date\",\n        \"min\": 5.883415957871186,\n        \"max\": 5.883415957871186,\n        \"num_unique_values\": 1,\n        \"samples\": [\n          5.883415957871186\n        ],\n        \"semantic_type\": \"\",\n        \"description\": \"\"\n      }\n    },\n    {\n      \"column\": \"z_statistic\",\n      \"properties\": {\n        \"dtype\": \"date\",\n        \"min\": 2.294585338971128,\n        \"max\": 2.294585338971128,\n        \"num_unique_values\": 1,\n        \"samples\": [\n          2.294585338971128\n        ],\n        \"semantic_type\": \"\",\n        \"description\": \"\"\n      }\n    },\n    {\n      \"column\": \"p_value\",\n      \"properties\": {\n        \"dtype\": \"date\",\n        \"min\": 0.010878449633593301,\n        \"max\": 0.010878449633593301,\n        \"num_unique_values\": 1,\n        \"samples\": [\n          0.010878449633593301\n        ],\n        \"semantic_type\": \"\",\n        \"description\": \"\"\n      }\n    }\n  ]\n}"
            }
          },
          "metadata": {},
          "execution_count": 5
        }
      ]
    },
    {
      "cell_type": "markdown",
      "source": [
        "# Question 2\n",
        "2 population means, unknown stds, variances assumed equal"
      ],
      "metadata": {
        "id": "EeB-jNwE00De"
      }
    },
    {
      "cell_type": "code",
      "source": [],
      "metadata": {
        "id": "XImlVmXi86nZ"
      },
      "execution_count": 5,
      "outputs": []
    },
    {
      "cell_type": "code",
      "source": [
        "# raw data, travel times between (A-B (80 miles))\n",
        "route_teacher_data_raw = \"94 86 120 105 99 110 104 112 115 93 117 114\"\n",
        "route_john_data_raw = \"112 107 111 112 100 115 109 119 93 126\"\n",
        "\n",
        "\n",
        "data_teacher = {\n",
        "    \"route_teacher_timings\": pd.Series(map(int, route_teacher_data_raw.split(\" \")))\n",
        "}\n",
        "\n",
        "data_john = {\n",
        "    \"route_john_timings\": pd.Series(map(int, route_john_data_raw.split(\" \")))\n",
        "}\n",
        "\n",
        "df_teacher = pd.DataFrame(data_teacher)\n",
        "df_john = pd.DataFrame(data_john)"
      ],
      "metadata": {
        "id": "DnP-IkTh007X"
      },
      "execution_count": 6,
      "outputs": []
    },
    {
      "cell_type": "code",
      "source": [
        "notes = \"\"\"\n",
        "      Teacher claims their route takes less time\n",
        "      Hypotheses:\n",
        "      H0: mean_teacher >= mean_john\n",
        "      Ha: mean_teacher < mean_john\n",
        "\n",
        "      Population variances are assumed to be equal.\n",
        "      alpha = 0.05\n",
        "      one tail test\n",
        "      \"\"\"\n",
        "\n",
        "def calculate_pooled_variance(n1, std1, n2, std2):\n",
        "  return (((n1 - 1) * (std1**2)) + ((n2 - 1) * (std2**2))) / (n1 + n2 - 2)\n",
        "\n",
        "def stderr_of_difference_in_means_using_pooled_variance(pooled_variance, n1, n2):\n",
        "  return (pooled_variance * ((1 / n1) + (1 / n2))) ** 0.5"
      ],
      "metadata": {
        "id": "jJryqDpc45qn"
      },
      "execution_count": 7,
      "outputs": []
    },
    {
      "cell_type": "code",
      "source": [
        "level_of_significance = 0.05\n",
        "sample_size_teacher = len(df_teacher)\n",
        "sample_size_john = len(df_john)\n",
        "degree_of_freedom = sample_size_teacher + sample_size_john - 2\n",
        "\n",
        "teacher_route_std = df_teacher[\"route_teacher_timings\"].std()\n",
        "john_route_std = df_john[\"route_john_timings\"].std()\n",
        "\n",
        "pooled_variance = calculate_pooled_variance(sample_size_teacher, teacher_route_std, sample_size_john, john_route_std)\n",
        "\n",
        "stderr = stderr_of_difference_in_means_using_pooled_variance(pooled_variance, sample_size_teacher, sample_size_john)\n",
        "\n",
        "teacher_mean = df_teacher[\"route_teacher_timings\"].mean()\n",
        "john_mean = df_john[\"route_john_timings\"].mean()\n",
        "\n",
        "#\n",
        "test_statistic = abs((teacher_mean - john_mean) / stderr)\n",
        "\n",
        "critical_t_value = scipy.stats.t.ppf(1 - level_of_significance, degree_of_freedom)\n",
        "\n",
        "p_value = 1 - scipy.stats.t.cdf(test_statistic, degree_of_freedom)"
      ],
      "metadata": {
        "id": "gW7M6DoW1jDh"
      },
      "execution_count": 8,
      "outputs": []
    },
    {
      "cell_type": "code",
      "source": [
        "print(f\"\"\"\n",
        "critical_t_value: {critical_t_value},\n",
        "test_statistic: {test_statistic},\n",
        "p_value: {p_value},\n",
        "level_of_significance: {level_of_significance}\n",
        "      \"\"\")"
      ],
      "metadata": {
        "id": "KyPWnVQK1k4f",
        "colab": {
          "base_uri": "https://localhost:8080/"
        },
        "outputId": "4301d299-2af9-4fa2-c8ee-679201ac8066"
      },
      "execution_count": 9,
      "outputs": [
        {
          "output_type": "stream",
          "name": "stdout",
          "text": [
            "\n",
            "critical_t_value: 1.7247182429207857,\n",
            "test_statistic: 1.0730336692630693,\n",
            "p_value: 0.14801653045228247,\n",
            "level_of_significance: 0.05\n",
            "      \n"
          ]
        }
      ]
    },
    {
      "cell_type": "code",
      "source": [
        "conditions = [(p_value < level_of_significance), (test_statistic > critical_t_value)]\n",
        "\n",
        "if conditions[0] and conditions[1]:\n",
        "  print(\"Reject null hypothesis\")\n",
        "else:\n",
        "  print(\"Fail to reject null hypothesis\")\n"
      ],
      "metadata": {
        "id": "iPoskgdP_O1R",
        "colab": {
          "base_uri": "https://localhost:8080/"
        },
        "outputId": "3ddc49db-e37e-473c-8e71-c3729e096149"
      },
      "execution_count": 10,
      "outputs": [
        {
          "output_type": "stream",
          "name": "stdout",
          "text": [
            "Fail to reject null hypothesis\n"
          ]
        }
      ]
    },
    {
      "cell_type": "code",
      "source": [],
      "metadata": {
        "id": "AKPDrpj9AAI0"
      },
      "execution_count": 10,
      "outputs": []
    },
    {
      "cell_type": "markdown",
      "source": [
        "# Question 3\n",
        "2 population means, unknown stds, variances assumed not equal"
      ],
      "metadata": {
        "id": "HufKoBE_A7HQ"
      }
    },
    {
      "cell_type": "code",
      "source": [
        "question = \"\"\"\n",
        "Shaw is interested in examining whether women, on average,\n",
        "spend more time per day using the Internet compared to men.\n",
        "The data below illustrates the daily Internet usage in minutes\n",
        "for a random sample of both men and women.\n",
        "We can assume that the population variances,\n",
        "for daily Internet usage, are not the same for men and women.\n",
        "\n",
        "Men (Population 1)\n",
        "561 295 299 319 314 324 288 367 207 333\n",
        "\n",
        "Women (Population 2)\n",
        "370 525 317 625 373 492 803 476 263 367\n",
        "\n",
        "a) Identify the null and alternative hypotheses\n",
        "\n",
        "b) Conduct a hypothesis test to assess this claim, using a significance level of 0.01\n",
        "\n",
        "c) Determine the p-value\n",
        "\"\"\""
      ],
      "metadata": {
        "id": "KlauF0K6A8DL"
      },
      "execution_count": null,
      "outputs": []
    },
    {
      "cell_type": "code",
      "source": [
        "# a) Identify the null and alternative hypotheses\n",
        "# one tailed, right\n",
        "h0 = \"mean women <= mean man\"\n",
        "ha = \"mean women > mean man\"\n"
      ],
      "metadata": {
        "id": "Qr2dqkLq9ZYq"
      },
      "execution_count": null,
      "outputs": []
    },
    {
      "cell_type": "code",
      "source": [
        "# b) Conduct a hypothesis test to assess this claim, using a significance level of 0.01"
      ],
      "metadata": {
        "id": "gEhjATGx9mUu"
      },
      "execution_count": null,
      "outputs": []
    },
    {
      "cell_type": "code",
      "source": [
        "data_women_raw = \"370 525 317 625 373 492 803 476 263 367\"\n",
        "data_men_raw = \"561 295 299 319 314 324 288 367 207 333\"\n",
        "\n",
        "data_women = {\n",
        "    \"data_women\": pd.Series(map(int, data_women_raw.split(\" \")))\n",
        "}\n",
        "\n",
        "data_men = {\n",
        "    \"data_men\": pd.Series(map(int, data_men_raw.split(\" \")))\n",
        "}\n",
        "\n",
        "df_women = pd.DataFrame(data_women)\n",
        "df_men = pd.DataFrame(data_men)"
      ],
      "metadata": {
        "id": "dhCKOvNJ97dH"
      },
      "execution_count": null,
      "outputs": []
    },
    {
      "cell_type": "code",
      "source": [
        "# helper functions\n",
        "\n",
        "def calculate_welch_dof(std1, n1, std2, n2):\n",
        "  \"\"\"\n",
        "  example to compare accuracy\n",
        "  calculate_welch_dof(4, 22, 5.5, 18)\n",
        "  output: 30.30330535184848\n",
        "  \"\"\"\n",
        "  return (( ((std1**2) / n1) + ((std2**2) / n2) )**2) /   ( ((((std1**2)/n1)**2) / (n1 - 1))  + ((((std2**2)/n2)**2) / (n2 - 1))   )\n",
        "\n",
        "\n",
        "# defined in Q1 above: calculate_stderr_of_difference_in_means_for_normal_two_mean_comparison"
      ],
      "metadata": {
        "id": "kmTGWMJI_in1"
      },
      "execution_count": null,
      "outputs": []
    },
    {
      "cell_type": "code",
      "source": [
        "level_of_significance = 0.01\n",
        "\n",
        "women_sample_size = len(df_women)\n",
        "men_sample_size = len(df_men)\n",
        "\n",
        "women_std = df_women[\"data_women\"].std()\n",
        "men_std = df_men[\"data_men\"].std()\n",
        "\n",
        "women_mean = df_women[\"data_women\"].mean()\n",
        "men_mean = df_men[\"data_men\"].mean()\n",
        "\n",
        "welch_dof = calculate_welch_dof(women_std, women_sample_size, men_std, men_sample_size)\n",
        "\n",
        "critical_t_value = scipy.stats.t.ppf(1 - level_of_significance, welch_dof)\n",
        "\n",
        "stderr = calculate_stderr_of_difference_in_means_for_normal_two_mean_comparison(women_std, women_sample_size, men_std, men_sample_size)\n",
        "\n",
        "test_statistic = abs((women_mean - men_mean) / stderr)\n",
        "\n",
        "p_value = 1 - scipy.stats.t.cdf(test_statistic, welch_dof)\n",
        "\n",
        "conditions = [(p_value < level_of_significance), (test_statistic > critical_t_value)]\n",
        "\n",
        "if conditions[0] and conditions[1]:\n",
        "  print(\"Reject null hypothesis\")\n",
        "else:\n",
        "  print(\"Fail to reject null hypothesis\")\n"
      ],
      "metadata": {
        "colab": {
          "base_uri": "https://localhost:8080/"
        },
        "id": "Ye7sdPph-czS",
        "outputId": "8f3c6aa4-8877-49e7-d7df-bab8ffc341dc"
      },
      "execution_count": null,
      "outputs": [
        {
          "output_type": "stream",
          "name": "stdout",
          "text": [
            "Fail to reject null hypothesis\n"
          ]
        }
      ]
    },
    {
      "cell_type": "code",
      "source": [
        "print(f\"\"\"\n",
        "critical_t_value: {critical_t_value},\n",
        "test_statistic: {test_statistic},\n",
        "p_value: {p_value},\n",
        "level_of_significance: {level_of_significance}\n",
        "      \"\"\")"
      ],
      "metadata": {
        "colab": {
          "base_uri": "https://localhost:8080/"
        },
        "id": "so2KtO-GE13l",
        "outputId": "3e387a1c-c6fc-43f8-b6b8-9eba3e82804c"
      },
      "execution_count": null,
      "outputs": [
        {
          "output_type": "stream",
          "name": "stdout",
          "text": [
            "\n",
            "critical_t_value: 2.6200749719008427,\n",
            "test_statistic: 2.228457580609311,\n",
            "p_value: 0.021258579097246266,\n",
            "level_of_significance: 0.01\n",
            "      \n"
          ]
        }
      ]
    },
    {
      "cell_type": "code",
      "source": [],
      "metadata": {
        "id": "DZWzqN8DF6jG"
      },
      "execution_count": null,
      "outputs": []
    },
    {
      "cell_type": "markdown",
      "source": [
        "# Question 4\n",
        "\n",
        "2 population proportions\n",
        "\n",
        "two proportion z test"
      ],
      "metadata": {
        "id": "OQIHzClsGiZf"
      }
    },
    {
      "cell_type": "code",
      "source": [
        "question = \"\"\"\n",
        "A Canadian bank is interested in investigating\n",
        "whether a greater proportion of younger customers prefer using online banking\n",
        "in comparison to older customers.\n",
        "\n",
        "In a survey involving 80 customers under the age of 30,\n",
        "it was determined that 68 of them primarily utilized online banking for their services.\n",
        "In contrast, among a group of 100 customers aged 30 and above,\n",
        "72 relied on online banking for most of their services.\n",
        "\n",
        "a) Identify the null and alternative hypotheses\n",
        "\n",
        "b) With a significance level set at 0.05, conduct a hypothesis test to examine the claim that a greater proportion of younger customers prefer using online banking\n",
        "\n",
        "c) Determine the p-value\n",
        "\"\"\""
      ],
      "metadata": {
        "id": "FAJ01qqCGjwz"
      },
      "execution_count": null,
      "outputs": []
    },
    {
      "cell_type": "code",
      "source": [
        "def calculate_stderr_of_differences_in_proportions(pooled_proportion, sample_size_1, sample_size_2):\n",
        "  \"\"\"\n",
        "  example for comparison:\n",
        "  usage: calculate_stderr_of_differences_in_proportions(0.4333, 500, 400)\n",
        "  accurate output: 0.03324123937220151\n",
        "  \"\"\"\n",
        "  return ((pooled_proportion * (1 - pooled_proportion)) * ((1 / sample_size_1) + (1 / sample_size_2)))**0.5\n"
      ],
      "metadata": {
        "id": "vYqIfSvi-ygD"
      },
      "execution_count": null,
      "outputs": []
    },
    {
      "cell_type": "code",
      "source": [
        "# a) Identify the null and alternative hypotheses\n",
        "# one tailed, right\n",
        "h0 = \"proportion of younger customers <= proportion of older customers\"\n",
        "ha = \"proportion of younger customers > proportion of older customers\""
      ],
      "metadata": {
        "id": "EALuOJh55hXN"
      },
      "execution_count": null,
      "outputs": []
    },
    {
      "cell_type": "code",
      "source": [
        "# b) With a significance level set at 0.05, conduct a hypothesis test\n",
        "level_of_significance = 0.05\n",
        "\n",
        "sample_size_young = 80\n",
        "sample_size_old = 100\n",
        "\n",
        "young_prefer_online_banking = 68\n",
        "old_prefer_online_banking = 72\n",
        "\n",
        "young_proportion = young_prefer_online_banking / sample_size_young\n",
        "old_proportion = old_prefer_online_banking / sample_size_old"
      ],
      "metadata": {
        "id": "OFi8Y9Kv5wgB"
      },
      "execution_count": null,
      "outputs": []
    },
    {
      "cell_type": "code",
      "source": [
        "# Check to see if normal distribution can be used\n",
        "normal_distribution_conditions = [(sample_size_young * young_proportion >= 5),\n",
        "                                  (sample_size_young * (1 - young_proportion) >= 5),\n",
        "                                  (sample_size_old * old_proportion >= 5),\n",
        "                                  (sample_size_old * (1 - old_proportion) >= 5)\n",
        "                                  ]\n",
        "if all(normal_distribution_conditions):\n",
        "  print(\"normal distribution can be used\")"
      ],
      "metadata": {
        "colab": {
          "base_uri": "https://localhost:8080/"
        },
        "id": "P2ldts6C9QEx",
        "outputId": "62a78a92-89e5-4fb0-b8af-e3772a7c98db"
      },
      "execution_count": null,
      "outputs": [
        {
          "output_type": "stream",
          "name": "stdout",
          "text": [
            "normal distribution can be used\n"
          ]
        }
      ]
    },
    {
      "cell_type": "code",
      "source": [
        "critical_t_value = scipy.stats.norm.ppf(1 - level_of_significance)\n",
        "\n",
        "pooled_proportion = (young_prefer_online_banking + old_prefer_online_banking) / (sample_size_young + sample_size_old)\n",
        "\n",
        "stderr_of_differences_in_proportions = calculate_stderr_of_differences_in_proportions(pooled_proportion, sample_size_young, sample_size_old)\n",
        "\n",
        "# using proportions\n",
        "test_statistic = abs((young_proportion - old_proportion) / stderr_of_differences_in_proportions)\n",
        "\n",
        "# right tail, 1 - cdf with test stat\n",
        "p_value = 1 - scipy.stats.norm.cdf(test_statistic)"
      ],
      "metadata": {
        "id": "_aLaY6wF9XLp"
      },
      "execution_count": null,
      "outputs": []
    },
    {
      "cell_type": "code",
      "source": [
        "print(f\"\"\"\n",
        "critical_t_value: {critical_t_value},\n",
        "test_statistic: {test_statistic},\n",
        "p_value: {p_value},\n",
        "level_of_significance: {level_of_significance}\n",
        "      \"\"\")"
      ],
      "metadata": {
        "colab": {
          "base_uri": "https://localhost:8080/"
        },
        "id": "9ewQlFVE9a86",
        "outputId": "e2486699-4bf0-4aea-8ac2-d0e646697c12"
      },
      "execution_count": null,
      "outputs": [
        {
          "output_type": "stream",
          "name": "stdout",
          "text": [
            "\n",
            "critical_t_value: 1.6448536269514722,\n",
            "test_statistic: 2.0846376869169103,\n",
            "p_value: 0.018551100429734957,\n",
            "level_of_significance: 0.05\n",
            "      \n"
          ]
        }
      ]
    },
    {
      "cell_type": "code",
      "source": [
        "conditions = [(p_value < level_of_significance), (test_statistic > critical_t_value)]\n",
        "\n",
        "if conditions[0] and conditions[1]:\n",
        "  print(\"Reject null hypothesis\")\n",
        "else:\n",
        "  print(\"Fail to reject null hypothesis\")"
      ],
      "metadata": {
        "colab": {
          "base_uri": "https://localhost:8080/"
        },
        "id": "DK3a3AV_974X",
        "outputId": "4b9ba738-7ff4-4b30-f5ae-65658fbba232"
      },
      "execution_count": null,
      "outputs": [
        {
          "output_type": "stream",
          "name": "stdout",
          "text": [
            "Reject null hypothesis\n"
          ]
        }
      ]
    },
    {
      "cell_type": "code",
      "source": [],
      "metadata": {
        "id": "fOE964uF_Qz_"
      },
      "execution_count": null,
      "outputs": []
    }
  ]
}