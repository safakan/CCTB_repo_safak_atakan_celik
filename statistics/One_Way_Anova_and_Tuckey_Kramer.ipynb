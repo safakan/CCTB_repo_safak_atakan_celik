{
  "nbformat": 4,
  "nbformat_minor": 0,
  "metadata": {
    "colab": {
      "provenance": [],
      "authorship_tag": "ABX9TyMyAUzub+14M+OCH5NPrxwj",
      "include_colab_link": true
    },
    "kernelspec": {
      "name": "python3",
      "display_name": "Python 3"
    },
    "language_info": {
      "name": "python"
    }
  },
  "cells": [
    {
      "cell_type": "markdown",
      "metadata": {
        "id": "view-in-github",
        "colab_type": "text"
      },
      "source": [
        "<a href=\"https://colab.research.google.com/github/safakan/CCTB_repo_safak_atakan_celik/blob/main/statistics/One_Way_Anova_and_Tuckey_Kramer.ipynb\" target=\"_parent\"><img src=\"https://colab.research.google.com/assets/colab-badge.svg\" alt=\"Open In Colab\"/></a>"
      ]
    },
    {
      "cell_type": "markdown",
      "source": [
        "# Comparing 2+ Group Means (One Way Anova + Tuckey-Kramer)"
      ],
      "metadata": {
        "id": "0skN8aXVGEj_"
      }
    },
    {
      "cell_type": "markdown",
      "source": [
        "#### Helper Functions"
      ],
      "metadata": {
        "id": "rVYrWMsVGiMK"
      }
    },
    {
      "cell_type": "code",
      "source": [
        "# Sum of Squares\n",
        "def calculate_SST(grand_mean, observations_all):\n",
        "  \"\"\"\n",
        "  \"\"\"\n",
        "  SST = 0\n",
        "  for value in observations_all:\n",
        "    SST += (value - grand_mean)**2\n",
        "  return SST\n",
        "\n",
        "def calculate_SSB(grand_mean, list_of_sample_means, list_of_sample_sizes):\n",
        "  \"\"\"\n",
        "  \"\"\"\n",
        "  SSB = 0\n",
        "  for i in range(len(list_of_sample_means)):\n",
        "    SSB += list_of_sample_sizes[i] * (list_of_sample_means[i] - grand_mean)**2\n",
        "  return SSB\n",
        "\n",
        "def calculate_SSW(SST, SSB):\n",
        "  \"\"\"\n",
        "  not implemented yet, almost like SST but use corresponding group means\n",
        "  \"\"\"\n",
        "  return SST - SSB\n",
        "\n",
        "# Degrees of Freedoms\n",
        "def calculate_dfT(list_of_observation_counts):\n",
        "  return sum(list_of_observation_counts) - 1\n",
        "\n",
        "def calculate_dfB(group_count):\n",
        "  return group_count - 1\n",
        "\n",
        "def calculate_dfW(group_count, num_of_observations):\n",
        "  return num_of_observations - group_count\n",
        "\n",
        "# Mean Squares\n",
        "## feel the redundancy\n",
        "def calculate_MST(SST, dfT):\n",
        "  return SST / dfT\n",
        "\n",
        "def calculate_MSB(SSB, dfB):\n",
        "  return SSB / dfB\n",
        "\n",
        "def calculate_MSW(SSW, dfW):\n",
        "  return SSW / dfW\n",
        "\n",
        "\n",
        "## Tukey-Kramer Critical Range\n",
        "def calculate_tukey_kramer_critical_range(q_critical, MSW, ni, nj):\n",
        "    return q_critical * ( (MSW / 2) * ( (1 / ni) + (1 / nj))    )**0.5"
      ],
      "metadata": {
        "id": "RUdDCANWGe_F"
      },
      "execution_count": null,
      "outputs": []
    },
    {
      "cell_type": "markdown",
      "source": [
        "#### Import Libraries and Load Data"
      ],
      "metadata": {
        "id": "P7WgDKQcG4jW"
      }
    },
    {
      "cell_type": "code",
      "execution_count": null,
      "metadata": {
        "id": "BV68ENHphKyz"
      },
      "outputs": [],
      "source": [
        "import scipy\n",
        "import io\n",
        "import pandas as pd\n",
        "\n",
        "data = pd.read_csv(io.StringIO('''\n",
        "Peter,Mike,Jason\n",
        "2.5,2.1,2.8\n",
        "2.6,2.4,3.7\n",
        "2.7,2.2,3.3\n",
        "2.2,2.9,3\n",
        "2.55,2.6,\n",
        ",3.1,\n",
        "'''), header=0)"
      ]
    },
    {
      "cell_type": "code",
      "source": [
        "data"
      ],
      "metadata": {
        "colab": {
          "base_uri": "https://localhost:8080/"
        },
        "id": "GwtpRokRsLGg",
        "outputId": "e6112dbf-a145-4e30-b488-bfde70a38af8"
      },
      "execution_count": null,
      "outputs": [
        {
          "output_type": "execute_result",
          "data": {
            "text/plain": [
              "   Peter  Mike  Jason\n",
              "0   2.50   2.1    2.8\n",
              "1   2.60   2.4    3.7\n",
              "2   2.70   2.2    3.3\n",
              "3   2.20   2.9    3.0\n",
              "4   2.55   2.6    NaN\n",
              "5    NaN   3.1    NaN"
            ],
            "text/html": [
              "\n",
              "  <div id=\"df-87c6eaad-ba15-40b9-925f-3751289d89cf\" class=\"colab-df-container\">\n",
              "    <div>\n",
              "<style scoped>\n",
              "    .dataframe tbody tr th:only-of-type {\n",
              "        vertical-align: middle;\n",
              "    }\n",
              "\n",
              "    .dataframe tbody tr th {\n",
              "        vertical-align: top;\n",
              "    }\n",
              "\n",
              "    .dataframe thead th {\n",
              "        text-align: right;\n",
              "    }\n",
              "</style>\n",
              "<table border=\"1\" class=\"dataframe\">\n",
              "  <thead>\n",
              "    <tr style=\"text-align: right;\">\n",
              "      <th></th>\n",
              "      <th>Peter</th>\n",
              "      <th>Mike</th>\n",
              "      <th>Jason</th>\n",
              "    </tr>\n",
              "  </thead>\n",
              "  <tbody>\n",
              "    <tr>\n",
              "      <th>0</th>\n",
              "      <td>2.50</td>\n",
              "      <td>2.1</td>\n",
              "      <td>2.8</td>\n",
              "    </tr>\n",
              "    <tr>\n",
              "      <th>1</th>\n",
              "      <td>2.60</td>\n",
              "      <td>2.4</td>\n",
              "      <td>3.7</td>\n",
              "    </tr>\n",
              "    <tr>\n",
              "      <th>2</th>\n",
              "      <td>2.70</td>\n",
              "      <td>2.2</td>\n",
              "      <td>3.3</td>\n",
              "    </tr>\n",
              "    <tr>\n",
              "      <th>3</th>\n",
              "      <td>2.20</td>\n",
              "      <td>2.9</td>\n",
              "      <td>3.0</td>\n",
              "    </tr>\n",
              "    <tr>\n",
              "      <th>4</th>\n",
              "      <td>2.55</td>\n",
              "      <td>2.6</td>\n",
              "      <td>NaN</td>\n",
              "    </tr>\n",
              "    <tr>\n",
              "      <th>5</th>\n",
              "      <td>NaN</td>\n",
              "      <td>3.1</td>\n",
              "      <td>NaN</td>\n",
              "    </tr>\n",
              "  </tbody>\n",
              "</table>\n",
              "</div>\n",
              "    <div class=\"colab-df-buttons\">\n",
              "\n",
              "  <div class=\"colab-df-container\">\n",
              "    <button class=\"colab-df-convert\" onclick=\"convertToInteractive('df-87c6eaad-ba15-40b9-925f-3751289d89cf')\"\n",
              "            title=\"Convert this dataframe to an interactive table.\"\n",
              "            style=\"display:none;\">\n",
              "\n",
              "  <svg xmlns=\"http://www.w3.org/2000/svg\" height=\"24px\" viewBox=\"0 -960 960 960\">\n",
              "    <path d=\"M120-120v-720h720v720H120Zm60-500h600v-160H180v160Zm220 220h160v-160H400v160Zm0 220h160v-160H400v160ZM180-400h160v-160H180v160Zm440 0h160v-160H620v160ZM180-180h160v-160H180v160Zm440 0h160v-160H620v160Z\"/>\n",
              "  </svg>\n",
              "    </button>\n",
              "\n",
              "  <style>\n",
              "    .colab-df-container {\n",
              "      display:flex;\n",
              "      gap: 12px;\n",
              "    }\n",
              "\n",
              "    .colab-df-convert {\n",
              "      background-color: #E8F0FE;\n",
              "      border: none;\n",
              "      border-radius: 50%;\n",
              "      cursor: pointer;\n",
              "      display: none;\n",
              "      fill: #1967D2;\n",
              "      height: 32px;\n",
              "      padding: 0 0 0 0;\n",
              "      width: 32px;\n",
              "    }\n",
              "\n",
              "    .colab-df-convert:hover {\n",
              "      background-color: #E2EBFA;\n",
              "      box-shadow: 0px 1px 2px rgba(60, 64, 67, 0.3), 0px 1px 3px 1px rgba(60, 64, 67, 0.15);\n",
              "      fill: #174EA6;\n",
              "    }\n",
              "\n",
              "    .colab-df-buttons div {\n",
              "      margin-bottom: 4px;\n",
              "    }\n",
              "\n",
              "    [theme=dark] .colab-df-convert {\n",
              "      background-color: #3B4455;\n",
              "      fill: #D2E3FC;\n",
              "    }\n",
              "\n",
              "    [theme=dark] .colab-df-convert:hover {\n",
              "      background-color: #434B5C;\n",
              "      box-shadow: 0px 1px 3px 1px rgba(0, 0, 0, 0.15);\n",
              "      filter: drop-shadow(0px 1px 2px rgba(0, 0, 0, 0.3));\n",
              "      fill: #FFFFFF;\n",
              "    }\n",
              "  </style>\n",
              "\n",
              "    <script>\n",
              "      const buttonEl =\n",
              "        document.querySelector('#df-87c6eaad-ba15-40b9-925f-3751289d89cf button.colab-df-convert');\n",
              "      buttonEl.style.display =\n",
              "        google.colab.kernel.accessAllowed ? 'block' : 'none';\n",
              "\n",
              "      async function convertToInteractive(key) {\n",
              "        const element = document.querySelector('#df-87c6eaad-ba15-40b9-925f-3751289d89cf');\n",
              "        const dataTable =\n",
              "          await google.colab.kernel.invokeFunction('convertToInteractive',\n",
              "                                                    [key], {});\n",
              "        if (!dataTable) return;\n",
              "\n",
              "        const docLinkHtml = 'Like what you see? Visit the ' +\n",
              "          '<a target=\"_blank\" href=https://colab.research.google.com/notebooks/data_table.ipynb>data table notebook</a>'\n",
              "          + ' to learn more about interactive tables.';\n",
              "        element.innerHTML = '';\n",
              "        dataTable['output_type'] = 'display_data';\n",
              "        await google.colab.output.renderOutput(dataTable, element);\n",
              "        const docLink = document.createElement('div');\n",
              "        docLink.innerHTML = docLinkHtml;\n",
              "        element.appendChild(docLink);\n",
              "      }\n",
              "    </script>\n",
              "  </div>\n",
              "\n",
              "\n",
              "<div id=\"df-16bec8d1-27b5-483f-b094-e8dafe35f737\">\n",
              "  <button class=\"colab-df-quickchart\" onclick=\"quickchart('df-16bec8d1-27b5-483f-b094-e8dafe35f737')\"\n",
              "            title=\"Suggest charts\"\n",
              "            style=\"display:none;\">\n",
              "\n",
              "<svg xmlns=\"http://www.w3.org/2000/svg\" height=\"24px\"viewBox=\"0 0 24 24\"\n",
              "     width=\"24px\">\n",
              "    <g>\n",
              "        <path d=\"M19 3H5c-1.1 0-2 .9-2 2v14c0 1.1.9 2 2 2h14c1.1 0 2-.9 2-2V5c0-1.1-.9-2-2-2zM9 17H7v-7h2v7zm4 0h-2V7h2v10zm4 0h-2v-4h2v4z\"/>\n",
              "    </g>\n",
              "</svg>\n",
              "  </button>\n",
              "\n",
              "<style>\n",
              "  .colab-df-quickchart {\n",
              "      --bg-color: #E8F0FE;\n",
              "      --fill-color: #1967D2;\n",
              "      --hover-bg-color: #E2EBFA;\n",
              "      --hover-fill-color: #174EA6;\n",
              "      --disabled-fill-color: #AAA;\n",
              "      --disabled-bg-color: #DDD;\n",
              "  }\n",
              "\n",
              "  [theme=dark] .colab-df-quickchart {\n",
              "      --bg-color: #3B4455;\n",
              "      --fill-color: #D2E3FC;\n",
              "      --hover-bg-color: #434B5C;\n",
              "      --hover-fill-color: #FFFFFF;\n",
              "      --disabled-bg-color: #3B4455;\n",
              "      --disabled-fill-color: #666;\n",
              "  }\n",
              "\n",
              "  .colab-df-quickchart {\n",
              "    background-color: var(--bg-color);\n",
              "    border: none;\n",
              "    border-radius: 50%;\n",
              "    cursor: pointer;\n",
              "    display: none;\n",
              "    fill: var(--fill-color);\n",
              "    height: 32px;\n",
              "    padding: 0;\n",
              "    width: 32px;\n",
              "  }\n",
              "\n",
              "  .colab-df-quickchart:hover {\n",
              "    background-color: var(--hover-bg-color);\n",
              "    box-shadow: 0 1px 2px rgba(60, 64, 67, 0.3), 0 1px 3px 1px rgba(60, 64, 67, 0.15);\n",
              "    fill: var(--button-hover-fill-color);\n",
              "  }\n",
              "\n",
              "  .colab-df-quickchart-complete:disabled,\n",
              "  .colab-df-quickchart-complete:disabled:hover {\n",
              "    background-color: var(--disabled-bg-color);\n",
              "    fill: var(--disabled-fill-color);\n",
              "    box-shadow: none;\n",
              "  }\n",
              "\n",
              "  .colab-df-spinner {\n",
              "    border: 2px solid var(--fill-color);\n",
              "    border-color: transparent;\n",
              "    border-bottom-color: var(--fill-color);\n",
              "    animation:\n",
              "      spin 1s steps(1) infinite;\n",
              "  }\n",
              "\n",
              "  @keyframes spin {\n",
              "    0% {\n",
              "      border-color: transparent;\n",
              "      border-bottom-color: var(--fill-color);\n",
              "      border-left-color: var(--fill-color);\n",
              "    }\n",
              "    20% {\n",
              "      border-color: transparent;\n",
              "      border-left-color: var(--fill-color);\n",
              "      border-top-color: var(--fill-color);\n",
              "    }\n",
              "    30% {\n",
              "      border-color: transparent;\n",
              "      border-left-color: var(--fill-color);\n",
              "      border-top-color: var(--fill-color);\n",
              "      border-right-color: var(--fill-color);\n",
              "    }\n",
              "    40% {\n",
              "      border-color: transparent;\n",
              "      border-right-color: var(--fill-color);\n",
              "      border-top-color: var(--fill-color);\n",
              "    }\n",
              "    60% {\n",
              "      border-color: transparent;\n",
              "      border-right-color: var(--fill-color);\n",
              "    }\n",
              "    80% {\n",
              "      border-color: transparent;\n",
              "      border-right-color: var(--fill-color);\n",
              "      border-bottom-color: var(--fill-color);\n",
              "    }\n",
              "    90% {\n",
              "      border-color: transparent;\n",
              "      border-bottom-color: var(--fill-color);\n",
              "    }\n",
              "  }\n",
              "</style>\n",
              "\n",
              "  <script>\n",
              "    async function quickchart(key) {\n",
              "      const quickchartButtonEl =\n",
              "        document.querySelector('#' + key + ' button');\n",
              "      quickchartButtonEl.disabled = true;  // To prevent multiple clicks.\n",
              "      quickchartButtonEl.classList.add('colab-df-spinner');\n",
              "      try {\n",
              "        const charts = await google.colab.kernel.invokeFunction(\n",
              "            'suggestCharts', [key], {});\n",
              "      } catch (error) {\n",
              "        console.error('Error during call to suggestCharts:', error);\n",
              "      }\n",
              "      quickchartButtonEl.classList.remove('colab-df-spinner');\n",
              "      quickchartButtonEl.classList.add('colab-df-quickchart-complete');\n",
              "    }\n",
              "    (() => {\n",
              "      let quickchartButtonEl =\n",
              "        document.querySelector('#df-16bec8d1-27b5-483f-b094-e8dafe35f737 button');\n",
              "      quickchartButtonEl.style.display =\n",
              "        google.colab.kernel.accessAllowed ? 'block' : 'none';\n",
              "    })();\n",
              "  </script>\n",
              "</div>\n",
              "\n",
              "  <div id=\"id_85d2b7be-1de3-45e7-93e2-48a08d5cf4c0\">\n",
              "    <style>\n",
              "      .colab-df-generate {\n",
              "        background-color: #E8F0FE;\n",
              "        border: none;\n",
              "        border-radius: 50%;\n",
              "        cursor: pointer;\n",
              "        display: none;\n",
              "        fill: #1967D2;\n",
              "        height: 32px;\n",
              "        padding: 0 0 0 0;\n",
              "        width: 32px;\n",
              "      }\n",
              "\n",
              "      .colab-df-generate:hover {\n",
              "        background-color: #E2EBFA;\n",
              "        box-shadow: 0px 1px 2px rgba(60, 64, 67, 0.3), 0px 1px 3px 1px rgba(60, 64, 67, 0.15);\n",
              "        fill: #174EA6;\n",
              "      }\n",
              "\n",
              "      [theme=dark] .colab-df-generate {\n",
              "        background-color: #3B4455;\n",
              "        fill: #D2E3FC;\n",
              "      }\n",
              "\n",
              "      [theme=dark] .colab-df-generate:hover {\n",
              "        background-color: #434B5C;\n",
              "        box-shadow: 0px 1px 3px 1px rgba(0, 0, 0, 0.15);\n",
              "        filter: drop-shadow(0px 1px 2px rgba(0, 0, 0, 0.3));\n",
              "        fill: #FFFFFF;\n",
              "      }\n",
              "    </style>\n",
              "    <button class=\"colab-df-generate\" onclick=\"generateWithVariable('data')\"\n",
              "            title=\"Generate code using this dataframe.\"\n",
              "            style=\"display:none;\">\n",
              "\n",
              "  <svg xmlns=\"http://www.w3.org/2000/svg\" height=\"24px\"viewBox=\"0 0 24 24\"\n",
              "       width=\"24px\">\n",
              "    <path d=\"M7,19H8.4L18.45,9,17,7.55,7,17.6ZM5,21V16.75L18.45,3.32a2,2,0,0,1,2.83,0l1.4,1.43a1.91,1.91,0,0,1,.58,1.4,1.91,1.91,0,0,1-.58,1.4L9.25,21ZM18.45,9,17,7.55Zm-12,3A5.31,5.31,0,0,0,4.9,8.1,5.31,5.31,0,0,0,1,6.5,5.31,5.31,0,0,0,4.9,4.9,5.31,5.31,0,0,0,6.5,1,5.31,5.31,0,0,0,8.1,4.9,5.31,5.31,0,0,0,12,6.5,5.46,5.46,0,0,0,6.5,12Z\"/>\n",
              "  </svg>\n",
              "    </button>\n",
              "    <script>\n",
              "      (() => {\n",
              "      const buttonEl =\n",
              "        document.querySelector('#id_85d2b7be-1de3-45e7-93e2-48a08d5cf4c0 button.colab-df-generate');\n",
              "      buttonEl.style.display =\n",
              "        google.colab.kernel.accessAllowed ? 'block' : 'none';\n",
              "\n",
              "      buttonEl.onclick = () => {\n",
              "        google.colab.notebook.generateWithVariable('data');\n",
              "      }\n",
              "      })();\n",
              "    </script>\n",
              "  </div>\n",
              "\n",
              "    </div>\n",
              "  </div>\n"
            ],
            "application/vnd.google.colaboratory.intrinsic+json": {
              "type": "dataframe",
              "variable_name": "data",
              "summary": "{\n  \"name\": \"data\",\n  \"rows\": 6,\n  \"fields\": [\n    {\n      \"column\": \"Peter\",\n      \"properties\": {\n        \"dtype\": \"number\",\n        \"std\": 0.1884144368141677,\n        \"min\": 2.2,\n        \"max\": 2.7,\n        \"num_unique_values\": 5,\n        \"samples\": [\n          2.6,\n          2.55,\n          2.7\n        ],\n        \"semantic_type\": \"\",\n        \"description\": \"\"\n      }\n    },\n    {\n      \"column\": \"Mike\",\n      \"properties\": {\n        \"dtype\": \"number\",\n        \"std\": 0.3937003937005905,\n        \"min\": 2.1,\n        \"max\": 3.1,\n        \"num_unique_values\": 6,\n        \"samples\": [\n          2.1,\n          2.4,\n          3.1\n        ],\n        \"semantic_type\": \"\",\n        \"description\": \"\"\n      }\n    },\n    {\n      \"column\": \"Jason\",\n      \"properties\": {\n        \"dtype\": \"number\",\n        \"std\": 0.3915780041490245,\n        \"min\": 2.8,\n        \"max\": 3.7,\n        \"num_unique_values\": 4,\n        \"samples\": [\n          3.7,\n          3.0,\n          2.8\n        ],\n        \"semantic_type\": \"\",\n        \"description\": \"\"\n      }\n    }\n  ]\n}"
            }
          },
          "metadata": {},
          "execution_count": 143
        }
      ]
    },
    {
      "cell_type": "markdown",
      "source": [
        "## Hypothesis Testing"
      ],
      "metadata": {
        "id": "h3LTr9pJG8zA"
      }
    },
    {
      "cell_type": "markdown",
      "source": [
        "### **One Way Anova**\n",
        "1. State the null and alternative hypotheses\n",
        "2. Choose the significance level (α)\n",
        "3. Calculate means for each group and the grand mean\n",
        "4. Calculate the test statistic (F-ratio)\n",
        "5. Determine the critical F-value\n",
        "6. Compare the test statistic to the critical F-value\n",
        "7. If H0 is rejected, perform post-hoc tests to identify where the differences lie"
      ],
      "metadata": {
        "id": "zU4s-F2yhX_P"
      }
    },
    {
      "cell_type": "code",
      "source": [
        "# 1. State the null and alternative hypotheses\n",
        "H0 = \"all means are equal\"\n",
        "Ha = \"at least one mean is significantly different\""
      ],
      "metadata": {
        "id": "liefT1vRiqCZ"
      },
      "execution_count": null,
      "outputs": []
    },
    {
      "cell_type": "code",
      "source": [
        "# 2. Choose the significance level (α)\n",
        "level_of_significance = 0.05"
      ],
      "metadata": {
        "id": "F_7y6q22ixMR"
      },
      "execution_count": null,
      "outputs": []
    },
    {
      "cell_type": "code",
      "source": [
        "# 3. Calculate means for each group and the grand mean\n",
        "mean_peter = data['Peter'].mean()\n",
        "mean_mike = data['Mike'].mean()\n",
        "mean_jason = data['Jason'].mean()\n",
        "grand_mean = (mean_peter + mean_mike + mean_jason) / 3\n",
        "\n",
        "## 3.1 calculate counts\n",
        "count_peter = data['Peter'].count()\n",
        "count_mike = data['Mike'].count()\n",
        "count_jason = data['Jason'].count()\n",
        "\n",
        "## 3.2 store dps\n",
        "dps = []\n",
        "for col in data.columns:\n",
        "    for value in data[col].dropna():\n",
        "        dps.append(float(value))"
      ],
      "metadata": {
        "id": "lXnCNxGUi2fw"
      },
      "execution_count": null,
      "outputs": []
    },
    {
      "cell_type": "code",
      "source": [
        "# 4. Calculate the test statistic (F-ratio)\n",
        "\n",
        "SST = calculate_SST(grand_mean, dps)\n",
        "SSB = calculate_SSB(grand_mean, [mean_peter, mean_mike, mean_jason], [count_peter, count_mike, count_jason])\n",
        "SSW = SST - SSB\n",
        "\n",
        "dfT = calculate_dfT([count_peter, count_mike, count_jason])\n",
        "dfB = calculate_dfB(3) # group count - 1\n",
        "dfW = dfT - dfB\n",
        "\n",
        "MST = calculate_MST(SST, dfT)\n",
        "MSB = calculate_MSB(SSB, dfB)\n",
        "MSW = calculate_MSW(SSW, dfW)\n",
        "\n",
        "\n",
        "F_statistic = MSB / MSW\n",
        "\n",
        "print(f\"\"\"\n",
        "    SST: {SST}\n",
        "    SSB: {SSB}\n",
        "    SSW: {SSW}\n",
        "\n",
        "    dfT: {dfT}\n",
        "    dfB: {dfB}\n",
        "    dfW: {dfW}\n",
        "\n",
        "    MST: {MST}\n",
        "    MSB: {MSB}\n",
        "    MSW: {MSW}\n",
        "\n",
        "    F statistic: {F_statistic}\n",
        "\"\"\")"
      ],
      "metadata": {
        "colab": {
          "base_uri": "https://localhost:8080/"
        },
        "id": "Mm9v1MmLkLJ6",
        "outputId": "b6285e07-455f-4f53-e9e7-0cf2be9b1c2f"
      },
      "execution_count": null,
      "outputs": [
        {
          "output_type": "stream",
          "name": "stdout",
          "text": [
            "\n",
            "    SST: 2.719166666666667\n",
            "    SSB: 1.3421666666666678\n",
            "    SSW: 1.3769999999999993\n",
            "\n",
            "    dfT: 14\n",
            "    dfB: 2\n",
            "    dfW: 12\n",
            "\n",
            "    MST: 0.19422619047619052\n",
            "    MSB: 0.6710833333333339\n",
            "    MSW: 0.11474999999999995\n",
            "\n",
            "    F statistic: 5.848220769789405\n",
            "\n"
          ]
        }
      ]
    },
    {
      "cell_type": "code",
      "source": [
        "# 5. Determine the critical F-value\n",
        "## needed: significance level, dfB (df1), dfW (df2)\n",
        "## table look up: https://people.smp.uq.edu.au/YoniNazarathy/engineering_final_project_stats_material/Ftable.pdf 3.89\n",
        "F_critical = scipy.stats.f.ppf(1-0.05, 2, 12)\n",
        "\n",
        "# 5.1 Determine the p value (bonus step)\n",
        "p_value = scipy.stats.f.sf(F_statistic, 2, 12)"
      ],
      "metadata": {
        "id": "P6TtnRhhymP-"
      },
      "execution_count": null,
      "outputs": []
    },
    {
      "cell_type": "code",
      "source": [
        "# 6. Compare the test statistic to the critical F-value\n",
        "print(f\"\"\"\n",
        "    F statistic: {F_statistic}\n",
        "    F critical: {F_critical}\n",
        "\n",
        "    P value: {p_value}\n",
        "    Alpha: {level_of_significance}\n",
        "\n",
        "    H0: {H0}\n",
        "    Ha: {Ha}\n",
        "\"\"\")\n",
        "\n",
        "conditions= [(F_statistic > F_critical), (p_value < level_of_significance)]\n",
        "if all(conditions):\n",
        "    print(\"Reject H0\")\n",
        "else:\n",
        "    print(\"Fail to reject H0\")"
      ],
      "metadata": {
        "colab": {
          "base_uri": "https://localhost:8080/"
        },
        "id": "k6bLEXuq0Rp_",
        "outputId": "fd0e3a3a-0d3f-45fd-f88f-d25b0744030e"
      },
      "execution_count": null,
      "outputs": [
        {
          "output_type": "stream",
          "name": "stdout",
          "text": [
            "\n",
            "    F statistic: 5.848220769789405\n",
            "    F critical: 3.8852938346523933\n",
            "\n",
            "    P value: 0.016865090464848947\n",
            "    Alpha: 0.05\n",
            "\n",
            "    H0: all means are equal\n",
            "    Ha: at least one mean is significantly different\n",
            "\n",
            "Reject H0\n"
          ]
        }
      ]
    },
    {
      "cell_type": "code",
      "source": [
        "# 7. If H0 is rejected, perform post-hoc tests to identify where the differences lie\n",
        "\n",
        "## Tukey-Krumer - all possible pairwise comparisons while controlling the family-wise error rate"
      ],
      "metadata": {
        "id": "eZcIVjpr2KbV"
      },
      "execution_count": null,
      "outputs": []
    },
    {
      "cell_type": "markdown",
      "source": [
        "### **The Tukey-Kramer Multiple Comparison Test**\n",
        "1. Calculate the critical value (𝑄𝛼) for the Tukey-Kramer test\n",
        "2. Calculate the Tukey-Kramer critical range\n",
        "3. Calculate the differences between the group means\n",
        "4. Compare the differences between the group means to the Tukey-Kramer critical range"
      ],
      "metadata": {
        "id": "KiMpQGoA4K-m"
      }
    },
    {
      "cell_type": "code",
      "source": [
        "# 1. Calculate the critical value (𝑄𝛼) for the Tukey-Kramer test\n",
        "## table look up https://www.stat.purdue.edu/%7Elingsong/teaching/2018fall/q-table.pdf\n",
        "## alpha = 0.05, k = 3 dfw = 9, Qalpha = 3.948\n",
        "\n",
        "level_of_significance\n",
        "number_of_groups = 3\n",
        "dfW\n",
        "\n",
        "from scipy.stats import studentized_range\n",
        "# To get the critical q-value:\n",
        "q_critical = studentized_range.ppf(q=1-level_of_significance, k=number_of_groups, df=dfW)"
      ],
      "metadata": {
        "id": "oZ1ib8xI4d6n"
      },
      "execution_count": null,
      "outputs": []
    },
    {
      "cell_type": "code",
      "source": [
        "# 2. Calculate the Tukey-Kramer critical range for each pair\n",
        "# 3. Calculate the differences between the group means\n",
        "# 4. Compare the differences between the group means to the Tukey-Kramer critical range"
      ],
      "metadata": {
        "id": "w2dQmW084eAo"
      },
      "execution_count": null,
      "outputs": []
    },
    {
      "cell_type": "code",
      "source": [
        "# Create a dictionary for ease of use\n",
        "means = {\n",
        "    'Peter': mean_peter,\n",
        "    'Mike': mean_mike,\n",
        "    'Jason': mean_jason\n",
        "}\n",
        "\n",
        "# group names for ease of use\n",
        "groups = list(means.keys())\n",
        "\n",
        "# start a loop to compare each pair\n",
        "for i in range(len(groups)):\n",
        "    for j in range(i + 1, len(groups)):\n",
        "        group1 = groups[i]\n",
        "        group2 = groups[j]\n",
        "\n",
        "        n1 = data[group1].count()\n",
        "        n2 = data[group2].count()\n",
        "\n",
        "        critical_range = calculate_tukey_kramer_critical_range(q_critical, MSW, n1, n2)\n",
        "        mean_diff = abs(means[group1] - means[group2])\n",
        "\n",
        "        print(f\"Comparison: {group1} vs {group2}\")\n",
        "        print(f\"  Mean Difference: {mean_diff}\")\n",
        "        print(f\"  Critical Range: {critical_range}\")\n",
        "        if mean_diff > critical_range:\n",
        "            print(f\"  The difference between {group1} and {group2} is significant.\")\n",
        "        else:\n",
        "            print(f\"  The difference between {group1} and {group2} is not significant.\")\n",
        "        print(\"---\")"
      ],
      "metadata": {
        "colab": {
          "base_uri": "https://localhost:8080/"
        },
        "id": "uBXcPQGh4eGg",
        "outputId": "539842e8-507b-4413-f4d2-85c65b56d632"
      },
      "execution_count": null,
      "outputs": [
        {
          "output_type": "stream",
          "name": "stdout",
          "text": [
            "Comparison: Peter vs Mike\n",
            "  Mean Difference: 0.03999999999999959\n",
            "  Critical Range: 0.5472373021145567\n",
            "  The difference between Peter and Mike is not significant.\n",
            "---\n",
            "Comparison: Peter vs Jason\n",
            "  Mean Difference: 0.69\n",
            "  Critical Range: 0.6062422989310949\n",
            "  The difference between Peter and Jason is significant.\n",
            "---\n",
            "Comparison: Mike vs Jason\n",
            "  Mean Difference: 0.6500000000000004\n",
            "  Critical Range: 0.5833569241366753\n",
            "  The difference between Mike and Jason is significant.\n",
            "---\n"
          ]
        }
      ]
    },
    {
      "cell_type": "code",
      "source": [],
      "metadata": {
        "id": "kiA_siWD4eNw"
      },
      "execution_count": null,
      "outputs": []
    },
    {
      "cell_type": "markdown",
      "source": [
        "---\n",
        "---"
      ],
      "metadata": {
        "id": "4raNOsFf4VSa"
      }
    },
    {
      "cell_type": "markdown",
      "source": [
        "#### Notes"
      ],
      "metadata": {
        "id": "_2dSXZ_JxiOx"
      }
    },
    {
      "cell_type": "markdown",
      "source": [
        "- F-test statistic follows an F distribution, right skewed\n",
        "\n",
        "- MST = MSB + MSW is not a valid equation unlike others. This is due to denominators.\n",
        " - MSB = SSB / (k-1), where k is number of groups\n",
        " - MSW = SSW / (N-k), where N is total sample size\n",
        " - MST = SST / (N-1)"
      ],
      "metadata": {
        "id": "Pe1gkXSbx-rv"
      }
    },
    {
      "cell_type": "code",
      "source": [],
      "metadata": {
        "id": "MMhRqWrT02LZ"
      },
      "execution_count": null,
      "outputs": []
    }
  ]
}